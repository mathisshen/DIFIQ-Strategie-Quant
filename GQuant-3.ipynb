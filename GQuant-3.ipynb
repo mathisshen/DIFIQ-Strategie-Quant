{
 "cells": [
  {
   "cell_type": "code",
   "execution_count": null,
   "metadata": {
    "slideshow": {
     "slide_type": "skip"
    }
   },
   "outputs": [],
   "source": [
    "import numpy as np\n",
    "import pandas as pd\n",
    "import cufflinks as cf\n",
    "cf.go_offline()\n",
    "import seaborn as sns"
   ]
  },
  {
   "cell_type": "markdown",
   "metadata": {
    "slideshow": {
     "slide_type": "slide"
    }
   },
   "source": [
    "# Gestion indicielle"
   ]
  },
  {
   "cell_type": "markdown",
   "metadata": {
    "slideshow": {
     "slide_type": "subslide"
    }
   },
   "source": [
    "## Gestion benchmarkée"
   ]
  },
  {
   "cell_type": "markdown",
   "metadata": {
    "slideshow": {
     "slide_type": "subslide"
    }
   },
   "source": [
    "La gestion indicelle est un type de gestion ou l'on doit battre un benchmark ou alors le repliquer le mieux possible. Si on prend un portefeuille $x$ et un benchmark $b$, on appelle l'erreur de réplication ( ou tracking error) l'écart suivant :\n",
    "\n",
    "$$ \\begin{array}{ccc}\n",
    "e(t) &=& R_x(t)- R_b(t)\\\\\n",
    "  &=&(x-b)^\\top R(t)\n",
    "\\end{array}$$"
   ]
  },
  {
   "cell_type": "markdown",
   "metadata": {
    "collapsed": true,
    "slideshow": {
     "slide_type": "subslide"
    }
   },
   "source": [
    "On peut alors avoir la variance de la tracking error et la sur/sous performance moyenne :\n",
    "\n",
    "$$ \\begin{array}{ccc}\n",
    "\\mu(x|b) &=& (x-b)^\\top \\mu\\\\\n",
    "\\sigma^2(x|b) &=& (x-b)^\\top \\Sigma (x-b)\n",
    "\\end{array}$$\n",
    "\n",
    "Ce sont exactement les memes formules que lorsque l'on regarde uniquement le portefeuille $x$ sauf que l'on regarde une difference de portefeuille."
   ]
  },
  {
   "cell_type": "markdown",
   "metadata": {
    "collapsed": true,
    "slideshow": {
     "slide_type": "fragment"
    }
   },
   "source": [
    "On obtient également une mesure semblable au ratio de sharpe que l'on appelle le ratio d'information :\n",
    "\n",
    "$$\\theta(x|b) = \\frac{\\mu(x|b) }{\\sigma(x|b) }  $$"
   ]
  },
  {
   "cell_type": "markdown",
   "metadata": {
    "collapsed": true,
    "slideshow": {
     "slide_type": "subslide"
    }
   },
   "source": [
    "Si on veut essayer de battre un indice on peut transformer le probleme de markowitz de la façon suiavnte :\n",
    "\n",
    "\\begin{eqnarray*}\n",
    "x^{\\star } &=&\\arg \\min \\frac{1}{2}(x-b)^{\\top }\\Sigma (x-b) -\\color{blue}{\\phi \\mu^\\top (x-b)} \\\\\n",
    "&\\text{u.c.}&\\left\\{\n",
    "\\begin{array}{l}\n",
    "x\\in \\mathcal{C} \\\\\n",
    "\\mathbf{1}^{\\top }x=1 \\\\\n",
    "x\\geq \\mathbf{0}\n",
    "\\end{array}\n",
    "\\right.  \n",
    "\\end{eqnarray*}\n",
    "\n",
    "* Le paramètre $\\phi$ est l'aversion à la tracking error. \n",
    "    *  ce paramètre sert à controler le risque de tracking error."
   ]
  },
  {
   "cell_type": "markdown",
   "metadata": {
    "collapsed": true,
    "slideshow": {
     "slide_type": "fragment"
    }
   },
   "source": [
    "*  En gestion indicielle on peut egalement vouloir répliquer un indice. Par exemple repliquer le S&P500 mais avec une contrainte sur le nombre d'actif dans le portefeuille : **technique de l'echantillonage**\n",
    "\n"
   ]
  },
  {
   "cell_type": "markdown",
   "metadata": {
    "collapsed": true,
    "slideshow": {
     "slide_type": "subslide"
    }
   },
   "source": [
    "Plusieurs techniques : \n",
    "\n",
    " * Enlever les actifs les plus petits en poids les uns après les autres tant que la contrainte de TE est respectée\n"
   ]
  },
  {
   "cell_type": "markdown",
   "metadata": {
    "slideshow": {
     "slide_type": "fragment"
    }
   },
   "source": [
    " * Utilisation de la norme $L_1$ : cette norme permet de \"sparsifier\" le programme de markowitz :\n",
    "   $$\\begin{eqnarray*}\n",
    "    x^{\\star } &=&\\arg \\min \\frac{1}{2}(x-b)^{\\top }\\Sigma (x-b) + \\color{blue}{\\lambda \\sum_i |x_i| }\\\\\n",
    "    &\\text{u.c.}&\\left\\{\n",
    "    \\begin{array}{l}\n",
    "    x\\in \\mathcal{C} \\\\\n",
    "    \\mathbf{1}^{\\top }x=1 \\\\\n",
    "    x\\geq \\mathbf{0}\n",
    "    \\end{array}\n",
    "    \\right.  \n",
    "    \\end{eqnarray*}$$\n",
    " "
   ]
  },
  {
   "cell_type": "markdown",
   "metadata": {
    "slideshow": {
     "slide_type": "fragment"
    }
   },
   "source": [
    "* Utilisation de contrainte entière (mixed integer quadratic programming, MIQP) :\n",
    "    $$\\begin{eqnarray*}\n",
    "    x^{\\star } &=&\\arg \\min \\frac{1}{2}(x-b)^{\\top }\\Sigma (x-b) \\\\\n",
    "    &\\text{u.c.}&\\left\\{\n",
    "    \\begin{array}{l}\n",
    "    x\\in \\mathcal{C} \\\\\n",
    "    \\mathbf{1}^{\\top }x=1 \\\\\n",
    "    x\\geq \\mathbf{0}\\\\\n",
    "    \\color{blue}{\\sum_i \\mathbf{1}\\{ x_i>0\\} \\leq k}\n",
    "    \\end{array}\n",
    "    \\right.  \n",
    "    \\end{eqnarray*}$$"
   ]
  },
  {
   "cell_type": "markdown",
   "metadata": {
    "slideshow": {
     "slide_type": "subslide"
    }
   },
   "source": [
    "## Réplication d'indice à composantes cachées"
   ]
  },
  {
   "cell_type": "markdown",
   "metadata": {
    "slideshow": {
     "slide_type": "subslide"
    }
   },
   "source": [
    "Parfois on peut vouloir répliquer un indice ou un fonds dont on ne connait pas les expositions. Typiquement un indice représentatif de stratégie hedge funds."
   ]
  },
  {
   "cell_type": "code",
   "execution_count": null,
   "metadata": {
    "slideshow": {
     "slide_type": "subslide"
    }
   },
   "outputs": [],
   "source": [
    "data = pd.read_excel(\"Exercice7TREX.xlsx\",parse_dates=True,skiprows=7,header=0,index_col=0).loc[\"2007\":]\n",
    "hf =  data[\"HF Index\"] \n",
    "X = data.drop(\"HF Index\",1)\n",
    "(hf+1).cumprod().iplot()"
   ]
  },
  {
   "cell_type": "markdown",
   "metadata": {
    "slideshow": {
     "slide_type": "subslide"
    }
   },
   "source": [
    "On va supposer que le rendement de cet indice s'écrit :\n",
    "\n",
    "$$R_I(t) = \\sum_{i\\in \\mathcal{I}} \\beta_i R_i(t) $$\n",
    "\n",
    "Ou $\\mathcal{I}$ est l'univers d'investissement à priori. Le problème est donc résolu par simple régression linéraire. "
   ]
  },
  {
   "cell_type": "markdown",
   "metadata": {
    "slideshow": {
     "slide_type": "subslide"
    }
   },
   "source": [
    "**Exercice** : calculer la stratégie de réplication de l'indice et la tracking error. Comment améliorer ? "
   ]
  },
  {
   "cell_type": "code",
   "execution_count": null,
   "metadata": {
    "slideshow": {
     "slide_type": "subslide"
    }
   },
   "outputs": [],
   "source": [
    "eonia = pd.read_csv(\"eonia.csv\",sep=\";\",index_col=0, parse_dates=True,infer_datetime_format=True) \n",
    "eonia = eonia.loc[X.index,:]\n",
    "#calcul du pas de temps\n",
    "dt = pd.DataFrame(eonia.index[1:].values-eonia.index[:-1].values,columns={\"dt\"})\n",
    "#calcul du rendement de eonia, vaut 0 en date 0\n",
    "r_eonia =  np.array(eonia['EONIA Index'])*( np.hstack((dt[\"dt\"].shift(-1).dt.days/365,1/365)))\n",
    "r_eonia = np.nan_to_num(r_eonia)\n",
    "\n",
    " \n",
    "track  = pd.DataFrame((hf+1).cumprod())\n",
    "track[\"repliquant\"] = (X.dot((np.linalg.inv(X.T.dot(X)).dot(X.T.dot(hf))  ))+r_eonia+1).cumprod()\n",
    "track.plot()\n",
    "plt.yticks(fontsize=15)\n",
    "plt.xticks(fontsize=15)\n",
    "plt.legend(fontsize=15)"
   ]
  },
  {
   "cell_type": "markdown",
   "metadata": {
    "slideshow": {
     "slide_type": "slide"
    }
   },
   "source": [
    "# Trading trend following and mean reversion"
   ]
  },
  {
   "cell_type": "markdown",
   "metadata": {
    "slideshow": {
     "slide_type": "subslide"
    }
   },
   "source": [
    "### Le trend following"
   ]
  },
  {
   "cell_type": "markdown",
   "metadata": {
    "collapsed": true,
    "slideshow": {
     "slide_type": "subslide"
    }
   },
   "source": [
    "Le suivi de tendance est une strategie de hedge fund très connu depuis les années 90. Elle repose sur une hypothese de bias de marche : les investisseurs on tendance à acheter le marché quand il monte et le vendre quand il baisse créant un effet de tendance."
   ]
  },
  {
   "cell_type": "markdown",
   "metadata": {
    "slideshow": {
     "slide_type": "subslide"
    }
   },
   "source": [
    "* Historiquement on utlisait des croiseement de moyenne mobiles.\n",
    "* Aujourd'hui on utilise des techniques plus modernes combinant Markowitz, l'optimisation convexe et la régularization."
   ]
  },
  {
   "cell_type": "code",
   "execution_count": null,
   "metadata": {},
   "outputs": [],
   "source": [
    "import pandas as pd\n",
    "data = pd.read_csv(\"data.csv\",sep=\";\",index_col=0,  parse_dates=True,infer_datetime_format=True)"
   ]
  },
  {
   "cell_type": "code",
   "execution_count": null,
   "metadata": {},
   "outputs": [],
   "source": [
    "r = data.pct_change()\n",
    "mu = r.ewm(halflife=130).mean()*260\n",
    "sd = r.ewm(halflife=130).std()*260**0.5\n",
    "w = mu/sd**2\n",
    "(w.shift().fillna(0)*r).iloc[260:,:].sum(1).cumsum().plot()"
   ]
  }
 ],
 "metadata": {
  "celltoolbar": "Slideshow",
  "kernelspec": {
   "display_name": "Python 3",
   "language": "python",
   "name": "python3"
  },
  "language_info": {
   "codemirror_mode": {
    "name": "ipython",
    "version": 3
   },
   "file_extension": ".py",
   "mimetype": "text/x-python",
   "name": "python",
   "nbconvert_exporter": "python",
   "pygments_lexer": "ipython3",
   "version": "3.6.3"
  }
 },
 "nbformat": 4,
 "nbformat_minor": 1
}
