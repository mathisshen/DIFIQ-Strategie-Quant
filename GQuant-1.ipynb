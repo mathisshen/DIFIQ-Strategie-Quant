{
 "cells": [
  {
   "cell_type": "code",
   "execution_count": null,
   "metadata": {
    "scrolled": true,
    "slideshow": {
     "slide_type": "skip"
    }
   },
   "outputs": [],
   "source": [
    "import numpy as np\n",
    "import pandas as pd\n",
    "#from plotly.offline import iplot\n",
    "#from plotly.graph_objs import *\n",
    "from IPython.display import Image\n",
    "#init_notebook_mode()\n",
    "import cufflinks as cf\n",
    "cf.go_offline()\n",
    "from IPython.core.display import HTML\n",
    "import seaborn as sns\n",
    "import matplotlib\n",
    "\n",
    " \n",
    "matplotlib.style.use('ggplot')\n",
    "%matplotlib inline\n",
    "matplotlib.rcParams['figure.figsize'] = (20.0, 8)"
   ]
  },
  {
   "cell_type": "markdown",
   "metadata": {
    "slideshow": {
     "slide_type": "slide"
    }
   },
   "source": [
    "# Gestion Quantitative \n",
    "\n",
    "\n"
   ]
  },
  {
   "cell_type": "markdown",
   "metadata": {
    "slideshow": {
     "slide_type": "subslide"
    }
   },
   "source": [
    "#### Prérequis mathématiques :\n",
    "  * Calcul matriciel\n",
    "  * La loi normale\n",
    "  * Dérivation de fonction\n",
    "  * Régression linéaire"
   ]
  },
  {
   "cell_type": "markdown",
   "metadata": {
    "slideshow": {
     "slide_type": "slide"
    }
   },
   "source": [
    "# Rappels mathématiques / modélisation des actifs"
   ]
  },
  {
   "cell_type": "markdown",
   "metadata": {
    "slideshow": {
     "slide_type": "subslide"
    }
   },
   "source": [
    "## Un peu de finance"
   ]
  },
  {
   "cell_type": "markdown",
   "metadata": {
    "slideshow": {
     "slide_type": "subslide"
    }
   },
   "source": [
    "* En gestion de portefeuille on parle souvent de la **net asset value (NAV)** qui est en fait la valorisation du fonds ou d'un portefeuille en argent (en euros par exemple). \n",
    "\n",
    "Pour la calculer c'est très facile:"
   ]
  },
  {
   "cell_type": "markdown",
   "metadata": {
    "slideshow": {
     "slide_type": "fragment"
    }
   },
   "source": [
    "* On prend la quantité $\\delta$ d'un actif $i$ \n",
    "\n",
    "    **Exemple :** $\\delta_i = 1000$ actions société générale"
   ]
  },
  {
   "cell_type": "markdown",
   "metadata": {
    "slideshow": {
     "slide_type": "fragment"
    }
   },
   "source": [
    "   * On en déduit le montant investi \n",
    "   \n",
    "   $$M_i = \\delta_i \\mathrm{prix}_i$$\n",
    "   \n",
    "       **Exemple :** si le cours de la SG est à 44 euros, $M_i = 1000 \\times 44 = 44000\\,\\mathrm{euros}$"
   ]
  },
  {
   "cell_type": "markdown",
   "metadata": {
    "slideshow": {
     "slide_type": "fragment"
    }
   },
   "source": [
    "* La **NAV** ou valeur du portefeuille est simplement :\n",
    "\n",
    "$$NAV = \\sum_i  \\delta_i \\mathrm{prix}_i$$"
   ]
  },
  {
   "cell_type": "markdown",
   "metadata": {
    "slideshow": {
     "slide_type": "subslide"
    }
   },
   "source": [
    "* Généralement c'est plus facile de raisonner en poids $x$ de l'actif $i$ dans le portefeuille : \n",
    "\n",
    "   $$x_i = \\frac{ \\delta_i \\mathrm{prix}_i}{NAV}$$\n",
    "   \n",
    "* On peut alors facilement passer des poids aux quantités :\n",
    "   \n",
    "   $$\\delta_i = \\frac{x_i NAV }{\\mathrm{prix}_i}$$"
   ]
  },
  {
   "cell_type": "code",
   "execution_count": null,
   "metadata": {
    "slideshow": {
     "slide_type": "fragment"
    }
   },
   "outputs": [],
   "source": [
    "##Calculer le poids de 1000 actions à 44 euros dans un portefeuille de 500000 euros\n",
    "S = 44\n",
    "NAV = 500000.0\n",
    "delta = 1000\n",
    "x_0 = delta*S/NAV\n",
    "print( \"{0:.0f}%\".format(x_0 * 100))"
   ]
  },
  {
   "cell_type": "markdown",
   "metadata": {
    "slideshow": {
     "slide_type": "subslide"
    }
   },
   "source": [
    "**Si on regarde ce qu'il ce passe entre deux dates on a :**\n",
    "* en t \n",
    "\n",
    "    $$ x_i(t)= \\frac{ \\delta_i(t) \\mathrm{prix}_i(t)}{NAV(t)}$$\n",
    "    \n",
    "* en t+1\n",
    "\n",
    "    $$ x_i(t+1)= \\frac{ \\delta_i(t) \\mathrm{prix}_i(t+1)}{NAV(t+1)}$$\n",
    "    \n",
    "    car le prix de l'action SG a bougé mais on en a toujours 1000 dans le portefeuille. La quantité ne bouge pas. Par contre le poids a bougé.\n"
   ]
  },
  {
   "cell_type": "code",
   "execution_count": null,
   "metadata": {
    "slideshow": {
     "slide_type": "skip"
    }
   },
   "outputs": [],
   "source": [
    "# Le prix en t = 0 de SG est de 44 euros, et en t = 1 il est de 48 euros\n",
    "p_0 = 44\n",
    "p_1 = 48\n",
    "\n",
    "#On démarre en t = 0 avec une valeur du pourtefeuille à 500000 euros\n",
    "NAV_0 = 500000\n",
    "\n",
    "SG = p_0*1000\n",
    "cash = NAV_0-p_0*1000\n",
    "\n",
    "#Quel est le poids en t = 1 ?\n",
    "NAV_1 = p_1*1000.0 + cash\n",
    "x_1 = delta*p_1/NAV_1\n",
    "print( \"{0:.0f}%\".format(x_1 * 100))"
   ]
  },
  {
   "cell_type": "markdown",
   "metadata": {
    "slideshow": {
     "slide_type": "subslide"
    }
   },
   "source": [
    "* La NAV du fonds en $t+1$ devient donc :\n",
    "\n",
    "$$NAV(t+1) =  \\sum_i  \\delta_i(t) \\mathrm{prix}_i(t+1)$$ \n"
   ]
  },
  {
   "cell_type": "markdown",
   "metadata": {
    "slideshow": {
     "slide_type": "fragment"
    }
   },
   "source": [
    " * En remplaçant $\\delta_i(t)$ on obtient : \n",
    " \n",
    "$$NAV(t+1) =  NAV(t)\\sum_i  x_i(t) \\frac{\\mathrm{prix}_i(t+1)}{\\mathrm{prix}_i(t)}$$ "
   ]
  },
  {
   "cell_type": "markdown",
   "metadata": {
    "slideshow": {
     "slide_type": "fragment"
    }
   },
   "source": [
    "* Le rendement d'un actif est donné par :\n",
    "\n",
    "\n",
    "$$ \\mathrm{rendement}_\\mathrm{i}  = \\frac{\\mathrm{prix}_i(t+1)}{\\mathrm{prix}_i(t)}-1$$\n",
    "\n",
    "* Si $\\sum_ix_i = 1$ on obtient :\n",
    "\n",
    "\n",
    "$$ \\frac{NAV(t+1) }{NAV(t)} -1=   \\sum_i x_i \\mathrm{rendement}_\\mathrm{i}  = \\mathrm{rendement}_\\mathrm{fonds}$$\n",
    "\n",
    "On raisonne souvent en pourcent. La NAV ou la valeur du portefeuille en $t=0$ vaut 100% ou 1, les poids sont aussi exprimés en pourcentage."
   ]
  },
  {
   "cell_type": "code",
   "execution_count": null,
   "metadata": {
    "slideshow": {
     "slide_type": "subslide"
    }
   },
   "outputs": [],
   "source": [
    "# on a deux actifs, le poids de l'actif 1 vaut x_1 = 0.5 et le poids de l'actif 2 vaut aussi 0.5\n",
    "x_1 = 0.5\n",
    "x_2 = 0.5\n",
    " \n",
    "#On démarre en t = 0 avec une valeur du portefeuille à 100%\n",
    "V_0 = 1\n",
    "\n",
    "# en t = 1 l'actif 1 a gagné 10% et l'actif 2 a perdu 5%. Quel est la valeur du portefeuille en %?\n",
    "\n",
    "V_1 = V_0*(1 + x_1*0.1 - x_2*0.05)\n",
    "\n",
    "print( \"{0:.0f}%\".format(V_1 * 100))"
   ]
  },
  {
   "cell_type": "markdown",
   "metadata": {
    "slideshow": {
     "slide_type": "subslide"
    }
   },
   "source": [
    "# Modélisation des rendements"
   ]
  },
  {
   "cell_type": "markdown",
   "metadata": {
    "slideshow": {
     "slide_type": "subslide"
    }
   },
   "source": [
    "* La plupart du temps on modélise la dynamique des **rendements** des actifs (actions, futures, obligations...) à l'aide d'une **loi normale**. Si $S_t$ est le prix d'un actif, on rappelle que le rendement est :\n",
    "\n",
    "\n",
    "$$r_t = \\frac{S_t}{S_{t-1}}-1$$\n",
    "et donc on a :\n",
    "\n",
    "$$r_t\\sim \\mathcal{N}\\left(\\mu\\mathrm{d}t,\\sigma^2 \\mathrm{d}t\\right)$$\n",
    "\n",
    "ou ** $\\mu$  est le rendement moyen** de l'actif,  **$\\sigma$ la volatilité moyenne** et **$\\mathrm{d}t$ le pas de temps**. Ici tout est constant et exprimé en année.  \n"
   ]
  },
  {
   "cell_type": "markdown",
   "metadata": {
    "slideshow": {
     "slide_type": "subslide"
    }
   },
   "source": [
    "En calcul stochastique on a exactement la meme chose :\n",
    "\n",
    "\\begin{eqnarray*}\n",
    "\\frac{dS_t}{S_t}  &=& \\mu \\mathrm{d}t+\\sigma\\mathrm{d}Wt  \\\\\n",
    "&=& \\mu \\mathrm{d}t+\\sigma\\sqrt{\\mathrm{d}t}\\epsilon_t  \\\\\n",
    "r_t&\\sim& \\mathcal{N}\\left(\\mu\\mathrm{d}t,\\sigma^2{\\mathrm{d}t }\\right)\n",
    "\\end{eqnarray*}\n",
    " \n",
    "\n",
    "ou $\\epsilon_t \\sim \\mathcal{N}(0,1)$.\n",
    "Dans la vraie vie les paramètres ne sont pas contants.\n",
    "\n",
    "** On annualise très souvent les mesures de rendement et de volatilité**"
   ]
  },
  {
   "cell_type": "code",
   "execution_count": null,
   "metadata": {
    "slideshow": {
     "slide_type": "fragment"
    }
   },
   "outputs": [],
   "source": [
    "#si on suppose qu'il a 260 jours de trading dans une année\n",
    "mu_y = 0.05 #5%  par ans\n",
    "vol_y = 0.1 #10%  par ans \n",
    "\n",
    "mu_d = 0.05/260  #   par jour  \n",
    "vol_d = 0.1/260**0.5  #   par jour"
   ]
  },
  {
   "cell_type": "markdown",
   "metadata": {
    "slideshow": {
     "slide_type": "fragment"
    }
   },
   "source": [
    "On peut utiliser les estimateurs historiques. Par exemple :\n",
    "\n",
    "$\\hat{\\mu}=\\frac{1}{t_n-t_0}\\sum_{i=0}^n\\mathrm{rendement}(t_{i},t_{i+1}) $\n",
    "  \n",
    "$\\hat{\\sigma}^2= \\frac{1}{t_n-t_0}\\sum_{i=0}^n\\mathrm{rendement}(t_{i},t_{i+1})^2$\n",
    "\n",
    "ici c'est l'estimateur de la variance est non-centré."
   ]
  },
  {
   "cell_type": "markdown",
   "metadata": {
    "slideshow": {
     "slide_type": "subslide"
    }
   },
   "source": [
    "Souvent on utilise les estimateurs historiques en prenant **la moyenne et l'ecart type des rendements passés**, typiquement 1 an. \n",
    "\n",
    "  * On sait (environ) calculer des volatilités et des corrélations\n",
    "\n",
    "  * On sait mal calculer des tendances, des espérances de rendements\n",
    "\n",
    "-> Recherche sur des méthodes pour connaitre les rendements espérés\n"
   ]
  },
  {
   "cell_type": "markdown",
   "metadata": {
    "slideshow": {
     "slide_type": "subslide"
    }
   },
   "source": [
    "Il est important de comprendre que la volatilité est une mesure de risque très importante quand on est sous hypothèse gaussienne.\n",
    "\n",
    "\n"
   ]
  },
  {
   "cell_type": "code",
   "execution_count": null,
   "metadata": {
    "slideshow": {
     "slide_type": "fragment"
    }
   },
   "outputs": [],
   "source": [
    "Image(url='https://upload.wikimedia.org/wikipedia/commons/a/a9/Empirical_Rule.PNG')"
   ]
  },
  {
   "cell_type": "markdown",
   "metadata": {
    "slideshow": {
     "slide_type": "subslide"
    }
   },
   "source": [
    "Il existe des moments d'ordres supérieur qui sont parfois utilisés lorsque l'hypothèse de rendement gaussien n'est plus vérifiée. En particulier la skewness qui mesure l'asymetrie d'une distribution.\n"
   ]
  },
  {
   "cell_type": "code",
   "execution_count": null,
   "metadata": {},
   "outputs": [],
   "source": [
    "Image(url='https://www.benchmarksixsigma.com/forum/uploads/monthly_2018_08/image.png.219ef88bbcbfdb0a921a8006fed3a9ad.png',width=1000,height=800)\n"
   ]
  },
  {
   "cell_type": "markdown",
   "metadata": {
    "slideshow": {
     "slide_type": "subslide"
    }
   },
   "source": [
    "## Modèle d'évaluation des actifs financiers (CAPM)"
   ]
  },
  {
   "cell_type": "markdown",
   "metadata": {
    "slideshow": {
     "slide_type": "subslide"
    }
   },
   "source": [
    "  * modèle introduit par Sharpe en 1964\n",
    "  * Utilisé pour calculer la rentabilité attendu d'une action...\n",
    "  \n",
    "  \n",
    "  * ... sous de nombreuses hypothèses\n",
    "     * Que tout le monde cherche à optimiser un critère moyenne/variance  (tout le monde est averse au risque et les rendements sont Gaussiens)\n",
    "     * Qu’il n’y a pas de cout de transaction\n",
    "     * Que tout le monde a le même horizon d’investissement\n",
    "     * Qu’il n’y a pas de contraintes de portefeuille\n",
    "     * Que tout le monde a les mêmes anticipations (et la même information)"
   ]
  },
  {
   "cell_type": "markdown",
   "metadata": {
    "slideshow": {
     "slide_type": "fragment"
    }
   },
   "source": [
    "Alors le CAPM nous dit que :\n",
    "\n",
    "\n",
    "**rentabilité d'une action - rentabilité taux = beta x ( rentabilité du marché - rentabilité taux) + risque spécifique**\n"
   ]
  },
  {
   "cell_type": "markdown",
   "metadata": {
    "slideshow": {
     "slide_type": "fragment"
    }
   },
   "source": [
    "\n",
    "Soit sous forme mathématique :\n",
    "\n",
    "$$r_t^i - r_f = \\beta_{i,m}\\left( r_t^m - r_f\\right) + \\epsilon_t^i $$\n",
    "\n",
    "avec $\\epsilon_t^i \\sim \\mathcal{N}(0,\\sigma_{\\epsilon_i})$ le risque idiosyncrasique, spécifique à l'action $i$. C'est un risque diversifiable.\n",
    "On en déduit le lien entre l'espérance de rendement de l'action $i$ et l'espérance de rendement du marché :\n",
    "\n",
    "$$\\mathbb{E}[r_t^i] - r_f = \\beta_{i,m}\\left( \\mathbb{E}[r_t^m] - r_f\\right) $$\n"
   ]
  },
  {
   "cell_type": "markdown",
   "metadata": {
    "slideshow": {
     "slide_type": "fragment"
    }
   },
   "source": [
    "* le terme $\\pi_i = \\mathbb{E}[r_t^i] - r_f$ est appelé prime de risque de marché (surtendance espérée) et $\\mathbb{E}[r_t^i]$ le rendement espéré de l'action. \n",
    "\n",
    "\n",
    "* La quantité $\\beta_{i,m}$ est appelée le beta de marché. On le retrouve en regressant les performances de l'action sur les performances du marché :\n",
    "\n",
    "$$ \\beta_{i,m} = \\frac{ \\mathrm{cov}\\left(r_t^m,r_t^i \\right)}{\\sigma^2(  r_t^m)}$$"
   ]
  },
  {
   "cell_type": "markdown",
   "metadata": {
    "slideshow": {
     "slide_type": "fragment"
    }
   },
   "source": [
    "**Exercice : ** calculer les primes de risque"
   ]
  },
  {
   "cell_type": "markdown",
   "metadata": {
    "slideshow": {
     "slide_type": "subslide"
    }
   },
   "source": [
    "le CAPM est un modèle à une seul facteur. Des extensions ont été proposées.\n",
    "\n",
    "* 3 facteurs (Fama-French, 1993)\n",
    "\n",
    "* 4 facteurs (Carhart, 1997)\n",
    "\n",
    "\n",
    "$$r_t^i-r_f=\\alpha^i+\\beta_{i,m}\\left( r_t^m - r_f\\right)+\\beta_{i,HML}r_t^{HML}+\\beta_{i,SMB}r_t^{SMB}+\\beta_{i,UMD}r_t^{UMD}+\\epsilon_t^i$$"
   ]
  },
  {
   "cell_type": "markdown",
   "metadata": {
    "slideshow": {
     "slide_type": "slide"
    }
   },
   "source": [
    "# Stratégies de gestion simples"
   ]
  },
  {
   "cell_type": "markdown",
   "metadata": {
    "slideshow": {
     "slide_type": "subslide"
    }
   },
   "source": [
    "## Calcul d'un placement au taux sans risque"
   ]
  },
  {
   "cell_type": "markdown",
   "metadata": {
    "slideshow": {
     "slide_type": "fragment"
    }
   },
   "source": [
    "* Quand on place de l'argent sur un compte il évolue au taux sans risque en continue. \n",
    "\n",
    "\n",
    "* Si le taux est de 3% par année, sur une année de 365 jours un placement rapporte 3%/365 par jour.\n",
    "\n",
    "\n",
    "* Pour les banques on prend souvent en référence le taux eonia (Euro OverNight Index Average) pour les strategie en euro."
   ]
  },
  {
   "cell_type": "code",
   "execution_count": null,
   "metadata": {
    "slideshow": {
     "slide_type": "subslide"
    }
   },
   "outputs": [],
   "source": [
    "eonia = pd.read_csv(\"eonia.csv\",sep=\";\",index_col=0, parse_dates=True,infer_datetime_format=True) \n",
    "eonia.plot( figsize=(12,8))\n"
   ]
  },
  {
   "cell_type": "markdown",
   "metadata": {
    "slideshow": {
     "slide_type": "subslide"
    }
   },
   "source": [
    "* Le taux bouge tous les jours. \n",
    "\n",
    "\n",
    "* Pour connaitre la valeur d'un placement au taux sans risque 1 jour depuis 2000 il suffit de calculer chanque jour la valeur du placement.  \n",
    "\n",
    "$$r_{t} =  \\mathrm{eonia}_{t-1} \\mathrm{d}t $$\n",
    "\n",
    "avec $\\mathrm{d}t= \\frac{\\mathrm{dates}_t-\\mathrm{dates}_{t-1}}{365}$. \n"
   ]
  },
  {
   "cell_type": "markdown",
   "metadata": {
    "slideshow": {
     "slide_type": "fragment"
    }
   },
   "source": [
    "\n",
    "Ensuite comme pour n'importe quelle autre actif / stratégie, quand on a les rendements, on compose pour obtenir la valeur de l'investissement :\n",
    "\n",
    "\\begin{eqnarray}\n",
    "  \\mathrm{valeur}_t &=&   \\mathrm{valeur}_{t-1} + \\mathrm{valeur}_{t-1}r_{t}  \\\\\n",
    " \\mathrm{valeur}_t &= &  \\mathrm{valeur}_{t-1} (1+r_{t}) \n",
    "\\end{eqnarray}\n",
    "\n",
    "**Exercice : capitaliser le taux Eonia**\n",
    "\n"
   ]
  },
  {
   "cell_type": "code",
   "execution_count": null,
   "metadata": {
    "slideshow": {
     "slide_type": "subslide"
    }
   },
   "outputs": [],
   "source": [
    "#calcul du pas de temps\n",
    "dt = pd.DataFrame(eonia.index[1:].values-eonia.index[:-1].values,columns={\"dt\"})\n",
    "#calcul du rendement de eonia, vaut 0 en date 0\n",
    "r_eonia =  np.array(eonia['EONIA Index'])*( np.hstack((dt[\"dt\"].shift(-1).dt.days/365,1/365)))\n",
    "r_eonia = np.nan_to_num(r_eonia)\n",
    "#cumul le taux\n",
    "eonia_cap = pd.DataFrame((1+r_eonia).cumprod() ,columns={\"eonia_cap\"},index=eonia.index)\n",
    "#eonia_cap.iplot(yTitle=\"NAV\")\n",
    "eonia_cap.plot()"
   ]
  },
  {
   "cell_type": "markdown",
   "metadata": {
    "slideshow": {
     "slide_type": "subslide"
    }
   },
   "source": [
    "## Le portefeuille equally weighted"
   ]
  },
  {
   "cell_type": "markdown",
   "metadata": {
    "slideshow": {
     "slide_type": "subslide"
    }
   },
   "source": [
    "Dans la suite on notera :\n",
    "\n",
    "* $n$ le nombre d'actifs dans le portefeuille\n",
    "\n",
    "* $\\Sigma$ la matrice de covariance \n",
    "\n",
    "* $\\mu$ le vecteur des tendances des actifs\n",
    "\n",
    "* $x$ le vecteur de poids des actifs.\n",
    "\n",
    "* $V_t$ la valeur du portefeuille."
   ]
  },
  {
   "cell_type": "markdown",
   "metadata": {
    "slideshow": {
     "slide_type": "subslide"
    }
   },
   "source": [
    "Le portefeuille le plus simple est le portefeuille \"1/n\":\n",
    "\n",
    "$$x_i = \\frac{1}{n}$$\n",
    "\n",
    " * On a le même poids dans chaque actif. On devra rebalancer le portefeuille pour les maintenir.\n",
    "\n",
    " * Différent du portefeuille \"buy and hold\" ou les poids dérivent.\n"
   ]
  },
  {
   "cell_type": "markdown",
   "metadata": {
    "slideshow": {
     "slide_type": "fragment"
    }
   },
   "source": [
    "**Avantages**\n",
    " * C'est le portefeuille le plus diversifié en poids.  \n",
    " * Stratégie « take profit »: On vend les actifs dont le prix monte plus que les autres. On rachète ceux dont le prix baisse.\n",
    " * On vend à la hausse, on achète à la baisse -> on gagne grâce à la vol. \n",
    "\n",
    "\n",
    "**Inconvénients**\n",
    " * On se réexpose quand un actif baisse: théoriquement, un seul actif convergeant vers un prix nul entraine tout le portefeuille vers 0.\n",
    " * Pour des actifs très différents (actions vs bonds) le même poids ne fait pas de sens…"
   ]
  },
  {
   "cell_type": "markdown",
   "metadata": {
    "slideshow": {
     "slide_type": "subslide"
    }
   },
   "source": [
    "Pour juger de la qualité d'une stratégie, 4 mesures sont vraiment importantes :\n",
    "\n",
    "  * Le rendement annualisé : $\\mu = \\left(\\frac{V_T}{V_0}\\right)^{1/n}-1$\n",
    "  \n",
    "  * La volatilité annualisé : $\\sigma = \\frac{1}{T-t_0}\\sqrt{\\sum_{t=0}^T\\left( r_t -\\bar{r}\\right)^2}$\n",
    "  \n",
    "  * Le ratio de sharpe : $\\theta =  \\frac{\\mu-r}{\\sigma}$\n",
    "  \n",
    "  * Le maximum drawdown : $ \\text{MDD}=\\max_{\\tau\\in (0,T)}\\left[\\max_{t \\in (0,\\tau)} V_t- V_\\tau \\right]$\n",
    "\n",
    "**Exercices : **\n",
    "Simuler le portefeuille 1/n et buy and hold. \n",
    "Calculer le taux de rendement, la volatiltié et le ratio de sharpe.\n",
    "Calculer sa volatilité rolling (ex-post)."
   ]
  },
  {
   "cell_type": "markdown",
   "metadata": {
    "slideshow": {
     "slide_type": "subslide"
    }
   },
   "source": [
    "On peut regarder les datas et les grapher:"
   ]
  },
  {
   "cell_type": "code",
   "execution_count": null,
   "metadata": {
    "slideshow": {
     "slide_type": "fragment"
    }
   },
   "outputs": [],
   "source": [
    "data = pd.read_csv(\"data.csv\",sep=\";\",index_col=0,  parse_dates=True,infer_datetime_format=True)"
   ]
  },
  {
   "cell_type": "code",
   "execution_count": null,
   "metadata": {
    "scrolled": false,
    "slideshow": {
     "slide_type": "subslide"
    }
   },
   "outputs": [],
   "source": [
    "data.plot()\n"
   ]
  },
  {
   "cell_type": "code",
   "execution_count": null,
   "metadata": {},
   "outputs": [],
   "source": [
    "data"
   ]
  },
  {
   "cell_type": "markdown",
   "metadata": {
    "slideshow": {
     "slide_type": "subslide"
    }
   },
   "source": [
    "Pour construire le portefeuille on va calculer les rendements de chancun des actifs:\n",
    "\n",
    "$$r_t^i = \\frac{P_t^i}{P_{t-1}^i}-1$$\n",
    "\n",
    "En python on fait simplement:"
   ]
  },
  {
   "cell_type": "code",
   "execution_count": null,
   "metadata": {
    "slideshow": {
     "slide_type": "fragment"
    }
   },
   "outputs": [],
   "source": [
    "R = data / data.shift()-1\n",
    "R = R.fillna(0)\n",
    " "
   ]
  },
  {
   "cell_type": "code",
   "execution_count": null,
   "metadata": {
    "slideshow": {
     "slide_type": "subslide"
    }
   },
   "outputs": [],
   "source": [
    "R.head()"
   ]
  },
  {
   "cell_type": "markdown",
   "metadata": {
    "slideshow": {
     "slide_type": "subslide"
    }
   },
   "source": [
    "* Finalement les rendements du  portefeuille 1/n sont donnés par: \n",
    "\n",
    "\n",
    "$$r_t^p = \\sum_i r^i_t x_{1/n}^i$$ \n",
    "\n",
    "\n",
    "* Matriciellement on a : \n",
    "\n",
    "$$r_t^p = r_t^\\top x_{1/n}$$"
   ]
  },
  {
   "cell_type": "code",
   "execution_count": null,
   "metadata": {
    "slideshow": {
     "slide_type": "fragment"
    }
   },
   "outputs": [],
   "source": [
    "#calcul du nombre d'actifs\n",
    "n = R.columns.size"
   ]
  },
  {
   "cell_type": "code",
   "execution_count": null,
   "metadata": {
    "slideshow": {
     "slide_type": "fragment"
    }
   },
   "outputs": [],
   "source": [
    "#calcul des poids\n",
    "x_1n = np.ones(n) / n\n",
    "print (x_1n)"
   ]
  },
  {
   "cell_type": "code",
   "execution_count": null,
   "metadata": {
    "slideshow": {
     "slide_type": "fragment"
    }
   },
   "outputs": [],
   "source": [
    "#calcul des rendements du portefeuille\n",
    "R_1n = np.dot(R,x_1n)\n",
    "R_1n = np.nan_to_num(R_1n)"
   ]
  },
  {
   "cell_type": "code",
   "execution_count": null,
   "metadata": {
    "slideshow": {
     "slide_type": "subslide"
    }
   },
   "outputs": [],
   "source": [
    "#calcul du backtest (NAV) en cumulant\n",
    "backtest = pd.DataFrame((R_1n+1).cumprod(),index = data.index,columns = {\"1/n\"})\n",
    "\n",
    "#ajoute BAH\n",
    "backtest[\"BAH\"] = (pd.DataFrame((R.fillna(0)+1).cumprod(),index = data.index)).sum(1)/10\n",
    "\n",
    "#ajoute eonia pour comparer\n",
    "backtest[\"Eonia\"] = eonia_cap"
   ]
  },
  {
   "cell_type": "code",
   "execution_count": null,
   "metadata": {
    "slideshow": {
     "slide_type": "fragment"
    }
   },
   "outputs": [],
   "source": [
    "backtest.head()"
   ]
  },
  {
   "cell_type": "code",
   "execution_count": null,
   "metadata": {
    "scrolled": false,
    "slideshow": {
     "slide_type": "subslide"
    }
   },
   "outputs": [],
   "source": [
    "np.log(backtest).iplot()"
   ]
  },
  {
   "cell_type": "code",
   "execution_count": null,
   "metadata": {
    "slideshow": {
     "slide_type": "subslide"
    }
   },
   "outputs": [],
   "source": [
    "vol = (backtest/backtest.shift() -1).rolling(60).std()*np.sqrt(260) \n",
    "vol = vol.fillna(method=\"backfill\")\n",
    "vol.iplot()\n",
    "                  "
   ]
  },
  {
   "cell_type": "markdown",
   "metadata": {
    "slideshow": {
     "slide_type": "slide"
    }
   },
   "source": [
    "# Stratégie de controle de volatilité"
   ]
  },
  {
   "cell_type": "markdown",
   "metadata": {
    "slideshow": {
     "slide_type": "subslide"
    }
   },
   "source": [
    "**Le calcul de volatilité rolling nous montre :**\n",
    "\n",
    "* Que la volatiltié bouge beaucoup dans le temps, ce qui veut dire que le risque bouge dans le temps donc que la probabilité de perdre x% est différente d'une année sur l'autre. \n",
    "\n",
    "Mais, on peut faire une stratégie de controle de volatilité, **le vol-target**.\n",
    "\n",
    "\n"
   ]
  },
  {
   "cell_type": "markdown",
   "metadata": {
    "slideshow": {
     "slide_type": "fragment"
    }
   },
   "source": [
    "* L'idée est la suivante : si les rendements suivent une loi normale disons $r_t\\sim \\mathcal{N}(\\mu,\\sigma_t)$, on a vu que un estimateur du risque $\\hat{\\sigma_t}$ est donné par la volatilité historique. \n",
    "\n",
    "\n",
    "* Disons que je veux avoir une volatilité qui soit toujours à peu près à $\\sigma^\\star = 10\\%$. On voit alors que :\n",
    "\n",
    "\n",
    "$$ r_t\\frac{\\sigma^\\star}{\\sigma_t}\\sim \\mathcal{N}\\left(\\mu\\frac{\\sigma^\\star}{\\sigma_t},\\sigma^\\star\\right) $$ \n",
    "\n",
    "\n"
   ]
  },
  {
   "cell_type": "markdown",
   "metadata": {
    "slideshow": {
     "slide_type": "fragment"
    }
   },
   "source": [
    "\n",
    " \n",
    "Il suffit donc d'investir uniquement une proportion $x_{vt} = \\frac{\\sigma^\\star}{\\hat{\\sigma_t}}$ dans l'actif pour obtenir une volatilité cible égale à $10\\%$. \n",
    "\n",
    " * Si $x_{vt}>1$ on emprunte au taux sans risque pour acheter de l'actif risqué : **leverage**\n",
    " * Si $x_{vt}<1$ on vends de l'actif risqué pour placer au taux sans risque  : **deleverage**\n",
    " \n",
    "**Exercice :** Faire un vol target à 5% du portefeuille 1/n et comparer la volatilité rolling"
   ]
  },
  {
   "cell_type": "code",
   "execution_count": null,
   "metadata": {},
   "outputs": [],
   "source": [
    "(pd.DataFrame(R_1n).rolling(60).std()*260**0.5).iplot()"
   ]
  },
  {
   "cell_type": "code",
   "execution_count": null,
   "metadata": {
    "slideshow": {
     "slide_type": "fragment"
    }
   },
   "outputs": [],
   "source": [
    "vol_cible = 0.05\n",
    "x_vt = vol_cible /  vol[\"1/n\"] "
   ]
  },
  {
   "cell_type": "code",
   "execution_count": null,
   "metadata": {
    "scrolled": false,
    "slideshow": {
     "slide_type": "subslide"
    }
   },
   "outputs": [],
   "source": [
    "x_vt =(x_vt)\n",
    "backtest[\"1/n vt\"] = (1+x_vt.shift()*R_1n + (1-x_vt.shift())*r_eonia).cumprod()\n",
    "\n",
    "backtest.iplot()\n"
   ]
  },
  {
   "cell_type": "code",
   "execution_count": null,
   "metadata": {
    "scrolled": false,
    "slideshow": {
     "slide_type": "subslide"
    }
   },
   "outputs": [],
   "source": [
    "ret = backtest/backtest.shift()-1\n",
    "vol = ret.rolling(260).std()*np.sqrt(260) *100\n",
    "vol = vol.fillna(method=\"backfill\")\n",
    "vol.iplot()\n"
   ]
  },
  {
   "cell_type": "markdown",
   "metadata": {
    "slideshow": {
     "slide_type": "slide"
    }
   },
   "source": [
    "# Strategie Smart Beta\n"
   ]
  },
  {
   "cell_type": "markdown",
   "metadata": {
    "slideshow": {
     "slide_type": "subslide"
    }
   },
   "source": [
    "## Petit rappel sur la matrice de covariance et de correlation"
   ]
  },
  {
   "cell_type": "markdown",
   "metadata": {
    "slideshow": {
     "slide_type": "fragment"
    }
   },
   "source": [
    "**Petit rappel sur la matrice de covariance et de correlation**\n",
    "\n",
    "\n",
    "La matrice de corrélation $C$ nous donne les différentes corrélations entre les actifs. On peut construire la matrice de variance covariance $\\Sigma$ à partir de cette matrice :\n",
    "\n",
    "$$ C =\\left(\\begin{array}{ccccc}\n",
    "1\\\\\n",
    "\\rho_{1,2} & 1\\\\\n",
    "\\rho_{1,3} & \\rho_{2,3} & 1\\\\\n",
    "\\rho_{1,4} &  \\rho_{2,4} & \\rho_{3,4} & 1\\\\\n",
    "\\rho_{1,5} & \\rho_{2,5} & \\rho_{3,5} &  &1\n",
    "\\end{array}\\right) \\qquad \\Rightarrow \\qquad \\Sigma =\\left(\\begin{array}{ccccc}\n",
    "\\sigma_{1}^{2}\\\\\n",
    "\\sigma_{1}\\sigma_{2}\\rho_{1,2} & \\sigma_{2}^{2}\\\\\n",
    "\\sigma_{1}\\sigma_{3}\\rho_{1,3} & \\sigma_{2}\\sigma_{3}\\rho_{2,3} & \\sigma_{3}^{2}\\\\\n",
    "\\sigma_{1}\\sigma_{4}\\rho_{1,4} & \\sigma_{2}\\sigma_{4}\\rho_{2,4} & \\sigma_{3}\\sigma_{4}\\rho_{3,4} & \\sigma_{4}^{2}\\\\\n",
    "\\sigma_{1}\\sigma_{5}\\rho_{1,5} & \\sigma_{2}\\sigma_{5}\\rho_{2,5} & \\sigma_{3}\\sigma_{5}\\rho_{3,5} & \\sigma_{4}\\sigma_{5} & \\sigma_{5}^{2}\n",
    "\\end{array}\\right)$$\n",
    " \n"
   ]
  },
  {
   "cell_type": "markdown",
   "metadata": {
    "slideshow": {
     "slide_type": "fragment"
    }
   },
   "source": [
    "Mathématiquement on a :\n",
    "\n",
    "$$ \\Sigma = C \\cdot \\sigma\\sigma^\\top $$\n",
    "\n",
    "On peut donc facilement passer de l'une à l'autre à l'aide des variances"
   ]
  },
  {
   "cell_type": "code",
   "execution_count": null,
   "metadata": {
    "slideshow": {
     "slide_type": "subslide"
    }
   },
   "outputs": [],
   "source": [
    "cor = R.corr()*100\n",
    "\n",
    "#ou\n",
    "\n",
    "cov = R.cov()\n",
    "cor  = cov / np.outer(np.diag(cov)**0.5,np.diag(cov)**0.5)\n",
    "cor*100"
   ]
  },
  {
   "cell_type": "markdown",
   "metadata": {
    "slideshow": {
     "slide_type": "fragment"
    }
   },
   "source": [
    "On peut utiliser une visualisation pour mieux comprendre la structure de correlation de nos données. Par exemple :"
   ]
  },
  {
   "cell_type": "code",
   "execution_count": null,
   "metadata": {
    "slideshow": {
     "slide_type": "subslide"
    }
   },
   "outputs": [],
   "source": [
    "sns.clustermap(cor ,figsize=(13, 13), linewidths=.5 ,square=True,)"
   ]
  },
  {
   "cell_type": "markdown",
   "metadata": {
    "slideshow": {
     "slide_type": "subslide"
    }
   },
   "source": [
    "**Exercice ** construire cette matrice pour l'univers multi-asset.\n"
   ]
  },
  {
   "cell_type": "markdown",
   "metadata": {
    "slideshow": {
     "slide_type": "subslide"
    }
   },
   "source": [
    "* La variance du portefeuille est donnée par : $x^\\top\\Sigma x = \\sum_i \\sum_j \\rho_{ij}\\sigma_i\\sigma_j x_ix_j $\n",
    "\n",
    "* On peut alors calculer la volatilité d'un portefeuille $x$:\n",
    "\n",
    "$$\\sigma(x)=\\sqrt{x^\\top\\Sigma x}$$\n",
    "\n",
    "\n",
    "* Avec deux actifs : $Var(x_1 r_1 + x_2 r_2) = x_1^2 Var(r_1) + x_2^2 Var(r_2) + 2x_1 x_2 Var(r_1)^{1/2}Var(r_2)^{1/2}\\rho $\n",
    "\n",
    "* Principe de diversification => correlation négative"
   ]
  },
  {
   "cell_type": "markdown",
   "metadata": {
    "slideshow": {
     "slide_type": "fragment"
    }
   },
   "source": [
    "Par exemple on peut  calculer la volatilité du portefeuille 1/n : "
   ]
  },
  {
   "cell_type": "code",
   "execution_count": null,
   "metadata": {
    "slideshow": {
     "slide_type": "fragment"
    }
   },
   "outputs": [],
   "source": [
    "vol_1n = np.sqrt(x_1n.dot(cov).dot(x_1n))*np.sqrt(260)\n",
    "print (vol_1n)"
   ]
  },
  {
   "cell_type": "markdown",
   "metadata": {
    "slideshow": {
     "slide_type": "fragment"
    }
   },
   "source": [
    "* On voudra toujours avoir $\\Sigma$ **définie positive**. Pourquoi ?"
   ]
  },
  {
   "cell_type": "markdown",
   "metadata": {
    "collapsed": true,
    "slideshow": {
     "slide_type": "subslide"
    }
   },
   "source": [
    " * De meme le rendement espéré du portefeuille $x$ est simplement :\n",
    "\n",
    "\n",
    "$$\\mu(x) = \\mu^\\top x$$\n",
    "\n",
    "  * On peut prendre également les rendements historiques pour estimer le vecteur $\\mu$ qui sera en fait la moyenne des rendements :"
   ]
  },
  {
   "cell_type": "code",
   "execution_count": null,
   "metadata": {
    "slideshow": {
     "slide_type": "fragment"
    }
   },
   "outputs": [],
   "source": [
    "mu = R.mean(axis = 0) * 260\n",
    "mu.plot.bar()\n",
    "plt.ylabel('Rendement espere estime', fontsize=20)\n",
    "plt.yticks(fontsize=15)\n",
    "plt.xticks(fontsize=15)\n",
    "plt.legend(fontsize=15,loc='upper left')   "
   ]
  },
  {
   "cell_type": "code",
   "execution_count": null,
   "metadata": {
    "slideshow": {
     "slide_type": "fragment"
    }
   },
   "outputs": [],
   "source": [
    "mu_1n = mu.dot(x_1n)\n",
    "mu_1n"
   ]
  },
  {
   "cell_type": "markdown",
   "metadata": {
    "slideshow": {
     "slide_type": "subslide"
    }
   },
   "source": [
    "La plupart des méthodes d'optimisation de portefeuille sont basées sur ces deux quantités. \n",
    "\n",
    "Finalement **si tout est gaussien, les rendements du portefeuille $x$ sont aussi gaussiens** et on a :\n",
    "\n",
    "$$r_x \\sim \\mathcal{N}(\\mu(x),\\sigma^2(x))$$"
   ]
  },
  {
   "cell_type": "markdown",
   "metadata": {
    "slideshow": {
     "slide_type": "subslide"
    }
   },
   "source": [
    "## Les portefeuilles minimum variance et moyenne variance"
   ]
  },
  {
   "cell_type": "markdown",
   "metadata": {
    "slideshow": {
     "slide_type": "subslide"
    }
   },
   "source": [
    "**Le portefeuille minimum variance** est simplement le portefeuille qui minimise la variance des rendements du portefeuille.\n",
    "\n",
    "\\begin{eqnarray}\n",
    "x^{\\star } &=&\\arg \\min \\frac{1}{2}x^{\\top }\\Sigma x \\\\\n",
    "&\\text{u.c.}&\\left\\{\n",
    "\\begin{array}{l}\n",
    "x\\in \\mathcal{C} \\\\\n",
    "\\mathbf{1}^{\\top }x=1 \\\\\n",
    "x\\geq \\mathbf{0}%\n",
    "\\end{array}%\n",
    "\\right. \\notag\n",
    "\\end{eqnarray}\n"
   ]
  },
  {
   "cell_type": "markdown",
   "metadata": {
    "slideshow": {
     "slide_type": "fragment"
    }
   },
   "source": [
    "Si on enlève les contraintes $x\\geq \\mathbf{0}$ et $x\\in \\mathcal{C}$ on peut avoir une formule fermée. Le langangien du probleme est:\n",
    "\n",
    "\n",
    "$$l(x,\\lambda) =  \\frac{1}{2}x^{\\top }\\Sigma x - \\lambda(\\mathbf{1}^{\\top }x-1)$$\n",
    "\n",
    "\n"
   ]
  },
  {
   "cell_type": "markdown",
   "metadata": {
    "slideshow": {
     "slide_type": "fragment"
    }
   },
   "source": [
    "on dérive et on obtient:\n",
    "\n",
    "\n",
    "$$x^\\star = \\lambda\\Sigma^{-1}\\mathbf{1} $$ \n",
    "\n",
    "\n",
    "On voit apparaitre l'inverse de matrice de variance covariance appelée aussi matrice d'information $\\mathcal{I}$. C'est \"l'équivalent\" de la division pour les matrices. \n",
    "\n",
    "\n",
    "Si son calcul est assez compliqué on peut lui donner une interpretation fiancière à l'aide de la regression linéaire."
   ]
  },
  {
   "cell_type": "markdown",
   "metadata": {
    "slideshow": {
     "slide_type": "subslide"
    }
   },
   "source": [
    "Pour cela on va considérer la régression linéaire suivante :\n",
    "\n",
    "\\begin{equation}\n",
    "R_{i,t} = \\beta_0 + \\beta _{i}^{\\top }R_{t}^{\\left( -i\\right) }+\\varepsilon\n",
    "_{i,t}\n",
    "\\end{equation}\n",
    "\n",
    "ou $R_{t}^{\\left( -i\\right) }$ est le vector des rendements   $R_{t}$\n",
    "excluant le $i^{\\mathrm{th}}$ actif et  $\\varepsilon _{i,t}\\sim \\mathcal{N}%\n",
    "(0,s_{i}^{2})$"
   ]
  },
  {
   "cell_type": "markdown",
   "metadata": {
    "slideshow": {
     "slide_type": "fragment"
    }
   },
   "source": [
    "Stevens (1998) montre alors que les éléments diagonaux de la matrice d'information sont donnés par :\n",
    "\n",
    "\\begin{equation*}\n",
    "\\mathcal{I}_{i,i}=\\frac{1}{\\hat{s_{i}}^{2} }\n",
    "\\end{equation*}"
   ]
  },
  {
   "cell_type": "markdown",
   "metadata": {
    "slideshow": {
     "slide_type": "fragment"
    }
   },
   "source": [
    "tandis que les éléments en dehors de la diagonale sont donnés par :\n",
    "\n",
    "\\begin{equation*}\n",
    "\\mathcal{I}_{i,j}=-\\frac{\\hat{\\beta}_{i,j}}{\\hat{s_{i}}^{2}\n",
    "}=-\\frac{\\hat{\\beta}_{j,i}}{\\hat{s_{j}}^{2}}\n",
    "\\end{equation*}"
   ]
  },
  {
   "cell_type": "markdown",
   "metadata": {
    "slideshow": {
     "slide_type": "subslide"
    }
   },
   "source": [
    "On obtient :\n",
    "\n",
    "$$\n",
    "\\Sigma^{-1} =\\left(\\begin{array}{ccccc}\n",
    "\\frac{1}{\\hat{s_{1}}^{2} }\\\\\n",
    "-\\frac{\\hat{\\beta}_{2,1}}{\\hat{s_{2}}^{2}} &\\frac{1}{\\hat{s_{2}}^{2} }\\\\\n",
    "-\\frac{\\hat{\\beta}_{3,1}}{\\hat{s_{3}}^{2}} &-\\frac{\\hat{\\beta}_{3,2}}{\\hat{s_{3}}^{2} }& \\frac{1}{\\hat{s_{3}}^{2} }\\\\\n",
    "-\\frac{\\hat{\\beta}_{4,1}}{\\hat{s_{4}}^{2}} &-\\frac{\\hat{\\beta}_{4,3}}{\\hat{s_{4}}^{2}} & -\\frac{\\hat{\\beta}_{4,3}}{\\hat{s_{4}}^{2}}& \\frac{1}{\\hat{s_{4}}^{2} }\\\\\n",
    "-\\frac{\\hat{\\beta}_{5,1}}{\\hat{s_{5}}^{2}} &-\\frac{\\hat{\\beta}_{5,2}}{\\hat{s_{5}}^{2}} &-\\frac{\\hat{\\beta}_{5,3}}{\\hat{s_{5}}^{2}} & -\\frac{\\hat{\\beta}_{5,4}}{\\hat{s_{5}}^{2}} & \\frac{1}{\\hat{s_{5}}^{2} }\n",
    "\\end{array}\\right)\n",
    "$$"
   ]
  },
  {
   "cell_type": "markdown",
   "metadata": {
    "slideshow": {
     "slide_type": "fragment"
    }
   },
   "source": [
    "En utilisant cette expression de $\\mathcal{I}$, on obtient une nouvelle formulation de la solution du problème de minimum variance\n",
    "\\begin{equation*}\n",
    "x_{i}^{\\star } =\\lambda \\left( \\frac{1}{\\hat{s_{i}}^{2}}-\\frac{\\sum_{j\\neq i}\\hat{\\beta}_i}{ \n",
    "\\hat{s_{i}}^{2}  } \\right)\n",
    "\\end{equation*}\n",
    "\n",
    "  *  Un poids est élevé en valeur absolue si l'actif se hedge bien en risque\n",
    "  *  Un poids est négatif si le hedge de l'actif est supérieur à 100% "
   ]
  },
  {
   "cell_type": "markdown",
   "metadata": {
    "slideshow": {
     "slide_type": "subslide"
    }
   },
   "source": [
    "**Exercice** Calculer l'inverse de la matrice de covariance. En déduire quel sera le poids du MV le plus élevé en valeur absolue. Calculer les poids du MV avec  $\\lambda = 1$ "
   ]
  },
  {
   "cell_type": "code",
   "execution_count": null,
   "metadata": {
    "slideshow": {
     "slide_type": "fragment"
    }
   },
   "outputs": [],
   "source": [
    "inv_cov = np.linalg.inv(cov)\n",
    "\n",
    "lbda = 1#  1/inv_cov.sum().sum()\n",
    "inv_cov = np.linalg.inv(cov) \n",
    "x_mv = lbda * inv_cov.dot(np.ones(n))\n",
    "print (x_mv * 100)"
   ]
  },
  {
   "cell_type": "markdown",
   "metadata": {
    "slideshow": {
     "slide_type": "fragment"
    }
   },
   "source": [
    "La somme des poids est bien loin de 1."
   ]
  },
  {
   "cell_type": "code",
   "execution_count": null,
   "metadata": {
    "slideshow": {
     "slide_type": "fragment"
    }
   },
   "outputs": [],
   "source": [
    "x_mv.sum()"
   ]
  },
  {
   "cell_type": "markdown",
   "metadata": {
    "slideshow": {
     "slide_type": "subslide"
    }
   },
   "source": [
    "Pour obtenir la somme des poids égale à 1, on ne peut agir que sur le paramètre lambda. C'est ce que fait l'optimiseur normalement. Ici on peut augmenter le paramètre \"à la main\" jusqu'a trouver 1 ou il y a une formule fermée:\n",
    "\n",
    "\n",
    "$$\\lambda = \\frac{1}{\\mathbf{1}^\\top\\Sigma^{-1}\\mathbf{1}} $$\n",
    "\n",
    "\n",
    "**Exercices :** Calculer la volatilité du portefeuille MV et comparer avec celle du 1/n. Comparer également l'esperance de rendement. Quel portefeuille préférez vous ? Comment choisir ?"
   ]
  },
  {
   "cell_type": "code",
   "execution_count": null,
   "metadata": {
    "slideshow": {
     "slide_type": "fragment"
    }
   },
   "outputs": [],
   "source": [
    "inv_cov = np.linalg.inv(cov)\n",
    "\n",
    "lbda =   1/inv_cov.sum().sum()\n",
    "inv_cov = np.linalg.inv(cov)\n",
    "x_mv = lbda * inv_cov.dot(np.ones(n))\n",
    "x_mv * 100\n",
    "\n",
    "vol_mv = np.sqrt(x_mv.dot(cov).dot(x_mv))*np.sqrt(260)\n",
    "vol_mv"
   ]
  },
  {
   "cell_type": "code",
   "execution_count": null,
   "metadata": {
    "slideshow": {
     "slide_type": "fragment"
    }
   },
   "outputs": [],
   "source": [
    "mu_mv = x_mv.dot(mu)\n",
    "mu_mv"
   ]
  },
  {
   "cell_type": "markdown",
   "metadata": {
    "slideshow": {
     "slide_type": "subslide"
    }
   },
   "source": [
    "\n",
    " \n",
    "Pour résoudre ce probleme avec plusieurs contraintes on va utiliser **l'optimisation convexe** plus précisément **la programmation quadratique** qui est très utilisée en finance quantitative.  \n",
    "\n"
   ]
  },
  {
   "cell_type": "markdown",
   "metadata": {
    "slideshow": {
     "slide_type": "fragment"
    }
   },
   "source": [
    "*  Généralement on a un solver \"qprog\" qui fait le travail:\n",
    "\n",
    "\\begin{equation*}\n",
    " \\begin{aligned}\n",
    " & \\underset{x}{\\text{minimize}}\n",
    " & & J(x) = \\frac{1}{2} \\mathbf{x}^T Q \\mathbf{x} + c^T \\mathbf{x} \\\\\n",
    " & \\text{sous contrainte de :} \n",
    " & & A\\mathbf{x} \\leq \\mathbf b \\mbox{  (contraintes d'inégalité)} \\\\\n",
    " & \n",
    " & &     E\\mathbf{x} = \\mathbf d  \\mbox{  (contraintes d'égalité)}\n",
    " \\end{aligned}\n",
    "\\end{equation*}\n",
    "\n",
    "*On trouve un solver qprog dans tous les langages et ils sont toujours sous ce format. On voit que si on a $Q=\\Sigma$, $c=0$, $E=[1,...1]$, $d=1$ on a exactement le probleme du minimum variance.*\n",
    "\n",
    "\n",
    "\n",
    "\n"
   ]
  },
  {
   "cell_type": "markdown",
   "metadata": {
    "slideshow": {
     "slide_type": "subslide"
    }
   },
   "source": [
    "Dans le cas minimum variance, on a juste optmisé sur le risque. On peut prendre en compte les estimateurs de tendances esperées des actifs pour ajouter une dimension \"directionnelle\":\n",
    "\n"
   ]
  },
  {
   "cell_type": "markdown",
   "metadata": {
    "slideshow": {
     "slide_type": "fragment"
    }
   },
   "source": [
    "**Le portefeuille moyenne variance** \n",
    "\n",
    "\\begin{eqnarray*}\n",
    "x^{\\star } &=&\\arg \\min \\frac{1}{2}x^{\\top }\\Sigma x -\\color{blue}{\\phi \\mu^\\top x} \\\\\n",
    "&\\text{u.c.}&\\left\\{\n",
    "\\begin{array}{l}\n",
    "x\\in \\mathcal{C} \\\\\n",
    "\\mathbf{1}^{\\top }x=1 \\\\\n",
    "x\\geq \\mathbf{0}\n",
    "\\end{array}\n",
    "\\right.  \n",
    "\\end{eqnarray*}\n",
    "\n",
    "* Le paramètre $\\phi$ est l'aversion au risque. \n",
    "    *  ce paramètre sert à controler le risque, un peu comme le vol-target.\n",
    "\n",
    "De là on obtient la frontière efficiente :"
   ]
  },
  {
   "cell_type": "code",
   "execution_count": null,
   "metadata": {
    "slideshow": {
     "slide_type": "subslide"
    }
   },
   "outputs": [],
   "source": [
    " \n",
    "Image(url='https://upload.wikimedia.org/wikipedia/commons/e/e1/Markowitz_frontier.jpg' , height=600 ,width=800)"
   ]
  },
  {
   "cell_type": "markdown",
   "metadata": {},
   "source": [
    "Dans le portefeuille moyenne variance il faut donc estimer les espérences de tendance des actifs. Il n'y a pas vraiment de réponse unique à cette estimation. Cela dépend de la stratégie :\n",
    "* Dans une stratégie de suivi de tendance on utilise une moyenne de rendements passés\n",
    "* On peut utiliser un modèle AR(1) court terme : $r_{t+1} = \\rho r_t + \\epsilon_t$\n",
    "* des vues d'analystes macro\n",
    "* un modèle factoriel de prime de risque\n",
    "* des vues de marché implicites "
   ]
  },
  {
   "cell_type": "markdown",
   "metadata": {
    "slideshow": {
     "slide_type": "subslide"
    }
   },
   "source": [
    "**Exercice : ** Calculer la frontiere efficiente sur l'unviers multi-asset.\n"
   ]
  },
  {
   "cell_type": "markdown",
   "metadata": {
    "slideshow": {
     "slide_type": "subslide"
    }
   },
   "source": [
    "Si on fait abstraction des contraintes de poids positifs et de budget, le langangien du problème est :\n",
    "\n",
    "\n",
    "$$l(x,\\phi) =  \\frac{1}{2}x^{\\top }\\Sigma x - \\phi\\mu^{\\top }x$$\n",
    "\n",
    "\n",
    "on dérive et on obtient :\n",
    "\n",
    "\n",
    "$$x^\\star = \\phi\\Sigma^{-1}\\mu $$ \n",
    "\n",
    "\n",
    "\n",
    "Disons que $\\phi = 0.5$, on peut calculer la solution :"
   ]
  },
  {
   "cell_type": "code",
   "execution_count": null,
   "metadata": {
    "scrolled": true,
    "slideshow": {
     "slide_type": "fragment"
    }
   },
   "outputs": [],
   "source": [
    "phi = 0.0005\n",
    "x_mvo = phi * inv_cov.dot(mu)\n",
    "print (x_mvo)"
   ]
  },
  {
   "cell_type": "markdown",
   "metadata": {
    "slideshow": {
     "slide_type": "fragment"
    }
   },
   "source": [
    "Regardons notre risque:"
   ]
  },
  {
   "cell_type": "code",
   "execution_count": null,
   "metadata": {
    "slideshow": {
     "slide_type": "fragment"
    }
   },
   "outputs": [],
   "source": [
    "vol_mvo = np.sqrt(x_mvo.dot(cov).dot(x_mvo))*np.sqrt(260)\n",
    "vol_mvo "
   ]
  },
  {
   "cell_type": "markdown",
   "metadata": {
    "slideshow": {
     "slide_type": "fragment"
    }
   },
   "source": [
    "et le rendement espéré :"
   ]
  },
  {
   "cell_type": "code",
   "execution_count": null,
   "metadata": {
    "slideshow": {
     "slide_type": "fragment"
    }
   },
   "outputs": [],
   "source": [
    "mu_mvo = x_mvo.dot(mu)\n",
    "mu_mvo"
   ]
  },
  {
   "cell_type": "markdown",
   "metadata": {
    "slideshow": {
     "slide_type": "fragment"
    }
   },
   "source": [
    "Ce portefeuille est il meilleur que le minimum variance et le 1/n  ?"
   ]
  },
  {
   "cell_type": "markdown",
   "metadata": {
    "slideshow": {
     "slide_type": "subslide"
    }
   },
   "source": [
    "\n",
    "## La budgétisation du risque "
   ]
  },
  {
   "cell_type": "markdown",
   "metadata": {
    "slideshow": {
     "slide_type": "subslide"
    }
   },
   "source": [
    "La variance (ou le risque) d'un portefeuille peut etre décomposée selon la contribution de chancun des actifs au risque ($\\mathrm{RC}_i $).\n",
    "\n",
    "\n",
    "Le terme $\\mathrm{RC}_i = x_i \\frac{\\partial\\, \\sigma\\left(w\\right)}{\\partial\\, w_i}$ est appellé la contribution du\n",
    "$i^{\\text{ème}}$ actif au risque du portefeuille. Elle   est égale au produit du poids et du risque marginal.\n",
    "\n",
    "matriciellement cette déomposition s'écrit :\n",
    "\n",
    "\n",
    "$$ x^\\top \\Sigma x = \\sum_i x_i (\\Sigma x)_i$$\n",
    "\n",
    "Bien évidemment on a:\n",
    "\n",
    "\n",
    "$$x^\\top \\Sigma x = \\sum_i \\mathrm{RC}_i$$"
   ]
  },
  {
   "cell_type": "code",
   "execution_count": null,
   "metadata": {
    "slideshow": {
     "slide_type": "fragment"
    }
   },
   "outputs": [],
   "source": [
    "var_1n = x_1n.dot(cov).dot(x_1n) * 260\n",
    "var_1n_dec = np.sum(x_1n* cov.dot(x_1n)) * 260\n",
    "\n",
    "print (var_1n**0.5, var_1n_dec**0.5)"
   ]
  },
  {
   "cell_type": "markdown",
   "metadata": {
    "slideshow": {
     "slide_type": "subslide"
    }
   },
   "source": [
    "La stratégie de gestion ERC (equal risk contribution) consiste à trouver le portefeuille qui égalise la contribution au risque de tous les actifs soit :\n",
    "\n",
    "\n",
    "$$\\mathrm{RC}_i = \\mathrm{RC}_j$$"
   ]
  },
  {
   "cell_type": "markdown",
   "metadata": {
    "slideshow": {
     "slide_type": "fragment"
    }
   },
   "source": [
    " Mathématiquement la solution du portefeuille ERC et l'optimum du programme suivant :\n",
    "\n",
    "\\begin{eqnarray*}\n",
    "x^{\\star } &=&\\arg \\min \\frac{1}{2}x^{\\top }\\Sigma x \\color{blue}{-\\lambda \\sum_i \\ln x }\\\\\n",
    "&\\text{u.c.}&\\left\\{\n",
    "\\begin{array}{l}\n",
    "\\mathbf{1}^{\\top }x=1 \\\\\n",
    "x\\geq \\mathbf{0}\n",
    "\\end{array}\n",
    "\\right.  \n",
    "\\end{eqnarray*}\n",
    "\n",
    "La contrainte de log force les poids à étre positifs.\n",
    " \n"
   ]
  },
  {
   "cell_type": "markdown",
   "metadata": {
    "slideshow": {
     "slide_type": "fragment"
    }
   },
   "source": [
    " On voit que si on dérive par rapport à $x_i$ à l'optimal on a exactement :\n",
    "\n",
    "$$  x_i (\\Sigma x)_i = \\lambda\n",
    " $$\n",
    " \n",
    " Ce qui veut dire que toutes les contribution au risque sont égales."
   ]
  },
  {
   "cell_type": "markdown",
   "metadata": {
    "slideshow": {
     "slide_type": "subslide"
    }
   },
   "source": [
    " ** Exercice :** Calculer les contribution en risque du 1/n et du minimum variance. Calculer la solution ERC sur l'univers multi asset. Comparer."
   ]
  },
  {
   "cell_type": "markdown",
   "metadata": {
    "slideshow": {
     "slide_type": "subslide"
    }
   },
   "source": [
    "Le problème peut etre facilement résolu par un algorithme de descente par coordonée (CCD)\n",
    "Le Lagrangien du problème est donné par :\n",
    "\n",
    "\\begin{equation*}\n",
    "\\mathcal{L}\\left( x;\\lambda \\right) =\\arg \\min x^{\\top }\\Sigma x%\n",
    "-\\lambda \\sum_{i=1}^{n}b_{i}\\ln x_{i}\n",
    "\\end{equation*}"
   ]
  },
  {
   "cell_type": "markdown",
   "metadata": {
    "slideshow": {
     "slide_type": "fragment"
    }
   },
   "source": [
    "Sans perte de généralité on peut fixxer $\\lambda =1$. La condition de premier ordre donne :\n",
    "\n",
    "\\begin{equation*}\n",
    "\\frac{\\partial \\,\\mathcal{L}\\left( x;\\lambda \\right) }{\\partial \\,x_{i}}=%\n",
    " {\\left( \\Sigma x\\right) _{i}} -\\frac{b_{i}}{%\n",
    "x_{i}}\n",
    "\\end{equation*}"
   ]
  },
  {
   "cell_type": "markdown",
   "metadata": {
    "slideshow": {
     "slide_type": "fragment"
    }
   },
   "source": [
    "A l'optimal on doit avoir $\\partial _{x_{i}}\\,\\mathcal{L}\\left( x;\\lambda\n",
    "\\right) =0$ ou encore :\n",
    "\n",
    "\\begin{equation*}\n",
    "x_{i}\\cdot \\left( \\Sigma x\\right) _{i}-b_{i}\\sigma \\left( x\\right) =0\n",
    "\\end{equation*}"
   ]
  },
  {
   "cell_type": "markdown",
   "metadata": {
    "slideshow": {
     "slide_type": "fragment"
    }
   },
   "source": [
    "En réarrangeant on obtient :\n",
    "\n",
    "\\begin{equation*}\n",
    "x_{i}^{2}\\sigma _{i}^{2}+x_{i}\\sigma _{i}\\sum_{j\\neq i}x_{j}\\rho\n",
    "_{i,j}\\sigma _{j}-b_{i}\\sigma \\left( x\\right) =0\n",
    "\\end{equation*}"
   ]
  },
  {
   "cell_type": "markdown",
   "metadata": {
    "slideshow": {
     "slide_type": "fragment"
    }
   },
   "source": [
    "On doit donc résoudre un polynome du second degrés dont la solution positive est :\n",
    "\n",
    "\\begin{equation}\n",
    "x_{i}^{\\star }=\\frac{-\\sigma _{i}\\sum_{j\\neq i}x_{j}\\rho _{i,j}\\sigma _{j}+%\n",
    "\\sqrt{\\sigma _{i}^{2}\\left( \\sum_{j\\neq i}x_{j}\\rho _{i,j}\\sigma _{j}\\right)\n",
    "^{2}+4\\sigma _{i}^{2}b_{i}\\sigma \\left( x\\right) }}{2\\sigma _{i}^{2}}\n",
    "\\end{equation}\n",
    "\n",
    "En cyclant on optient la solution"
   ]
  },
  {
   "cell_type": "code",
   "execution_count": null,
   "metadata": {
    "slideshow": {
     "slide_type": "subslide"
    }
   },
   "outputs": [],
   "source": [
    " def computeERC(Sigma):\n",
    "    Sigma = np.array(Sigma)\n",
    "    n = np.shape(Sigma)[0]\n",
    "    \n",
    "    x0 = np.ones((n,1)) / n\n",
    "    x = x0*10\n",
    "    var = np.diag(Sigma)\n",
    "    Sx = Sigma.dot(x)\n",
    "    cvg = False\n",
    "    \n",
    "    while not cvg:\n",
    "        for i in range(n):\n",
    "            alpha = var[i];\n",
    "            beta =  (Sx[i]-x[i]*var[i])[0];\n",
    "            \n",
    "            gamma_ = -1.0/n;\n",
    "             \n",
    "            x_tilde = (-beta + np.sqrt(beta**2 - 4*alpha*gamma_)) / (2*alpha);\n",
    "            x_i = x[i];\n",
    "\n",
    "            x[i] = x_tilde;\n",
    "            Sx = Sigma.dot(x) \n",
    "            \n",
    "        cvg = np.sum( (x/np.sum(x) - x0/np.sum(x0))**2 ) <= 1e-5;\n",
    "        #print cvg\n",
    "        x0 = x.copy()\n",
    "        \n",
    "    return x/x.sum()"
   ]
  },
  {
   "cell_type": "code",
   "execution_count": null,
   "metadata": {
    "scrolled": false,
    "slideshow": {
     "slide_type": "subslide"
    }
   },
   "outputs": [],
   "source": [
    "#calcul de l'ERC (portefeuille Equal Risk Contribution)\n",
    "x_erc = computeERC(cov)\n",
    "#calcul des contribution au risque\n",
    "rc = x_erc*(cov.dot(x_erc))\n",
    "#on met en base 100 dans une dataframe\n",
    "rc = pd.DataFrame(rc/rc.sum())\n",
    "rc.columns = ['erc']\n",
    "#idem pour le portefeuille 1/n\n",
    "rc_1n = x_1n*(cov.dot(x_1n))\n",
    "rc[\"1/n\"] = pd.DataFrame(rc_1n/rc_1n.sum())\n",
    " \n",
    "#plot \n",
    "rc.plot.bar()\n",
    "plt.ylabel('Contribution au risque', fontsize=20),plt.yticks(fontsize=15),plt.xticks(fontsize=15)\n",
    "plt.legend(fontsize=15,loc='upper left')   "
   ]
  },
  {
   "cell_type": "markdown",
   "metadata": {
    "collapsed": true,
    "slideshow": {
     "slide_type": "slide"
    }
   },
   "source": [
    " # Backtest des stratégies"
   ]
  },
  {
   "cell_type": "markdown",
   "metadata": {
    "slideshow": {
     "slide_type": "subslide"
    }
   },
   "source": [
    " * On a vu des allocations de portefeuille statiques \n",
    " \n",
    "     * elles n'evoluent pas dans le temps, on utilise 10 ans de données de marché pour prendre une exposition aujourd'hui\n",
    "     \n",
    "     \n"
   ]
  },
  {
   "cell_type": "markdown",
   "metadata": {
    "slideshow": {
     "slide_type": "fragment"
    }
   },
   "source": [
    " * En pratique on utilise plutot 1 an de donnée et on recalcule le portefeuille tous les jours ou semaines ou mois"
   ]
  },
  {
   "cell_type": "code",
   "execution_count": null,
   "metadata": {
    "slideshow": {
     "slide_type": "subslide"
    }
   },
   "outputs": [],
   "source": [
    "# récupère les dates et nombre de date\n",
    "dates = R.index.values\n",
    "nDates = dates.size\n",
    "\n",
    "\n",
    "# préparation des matrices de poids nbDates x nbAssets\n",
    "X_mv = pd.DataFrame(index=data.index, columns=data.columns)\n",
    "X_1n = pd.DataFrame(index=data.index, columns=data.columns)\n",
    "X_mvo = pd.DataFrame(index=data.index, columns=data.columns)\n",
    "\n",
    "# préparation du backtest MV et 1n\n",
    "backtest = pd.DataFrame(index=data.index, columns=[\"MV\",\"1n\"]) \n",
    "\n",
    "# initialisation à 1 (100%)\n",
    "backtest[\"MV\"].iloc[0] = 1\n",
    "backtest[\"1n\"].iloc[0] = 1\n",
    "\n",
    "#le lag est la taille de la fenetre de calcul\n",
    "lag = 260\n",
    "\n",
    "# on parcours les dates\n",
    "for t, d in enumerate(dates):\n",
    "    \n",
    "    # si on a pas de données on reste à 1\n",
    "    if t<lag+1:\n",
    "        backtest[\"MV\"].loc[d] = 1\n",
    "        backtest[\"1n\"].loc[d] = 1\n",
    "        continue\n",
    "    \n",
    "    #recupère les rendement des actifs sur les 260 derniers jours\n",
    "    R_t = R.iloc[t-lag:t,:]\n",
    "    \n",
    "    #calcul de la matrice de covariance\n",
    "    cov_t = R_t.cov() * 260\n",
    "    \n",
    "    #calcul de l'inverse\n",
    "    inv_cov = np.linalg.inv(cov_t)\n",
    "    \n",
    "    #calcul du lambda optimal pour avoir somme des poids = 1\n",
    "    lbda = 1/inv_cov.sum().sum()\n",
    "    \n",
    "    #calcul de l'allocation\n",
    "    X_mv.loc[d] =  lbda * inv_cov.dot(np.ones(n))\n",
    "    \n",
    "    #calcul de la performance\n",
    "    r_mv = np.nan_to_num(R.iloc[t,:].dot(X_mv.iloc[t-1]))\n",
    "    \n",
    "    #cumul de la valeur du portefeuille\n",
    "    backtest[\"MV\"].loc[d] =  backtest[\"MV\"].iloc[t-1]*(1+r_mv)\n",
    "    \n",
    "    X_1n.loc[d] = np.ones((1,n)) / n\n",
    "    backtest[\"1n\"].loc[d] =  backtest[\"1n\"].iloc[t-1]*(1+np.nan_to_num(R.iloc[t,:].dot(X_1n.iloc[t-1])))\n",
    "\n"
   ]
  },
  {
   "cell_type": "code",
   "execution_count": null,
   "metadata": {
    "slideshow": {
     "slide_type": "subslide"
    }
   },
   "outputs": [],
   "source": [
    "\n",
    "backtest[\"eonia\"] = eonia_cap\n",
    "backtest.plot()\n",
    "plt.ylabel('NAV', fontsize=20)\n",
    "plt.yticks(fontsize=15)\n",
    "plt.xticks(fontsize=15)\n",
    "plt.legend(fontsize=15,loc='upper left')   "
   ]
  },
  {
   "cell_type": "code",
   "execution_count": null,
   "metadata": {
    "slideshow": {
     "slide_type": "subslide"
    }
   },
   "outputs": [],
   "source": [
    " \n",
    "X_mv = X_mv.fillna(method=\"backfill\")\n",
    "X_mv.iloc[:,:].plot.area(stacked=False)\n",
    "plt.ylabel('NAV', fontsize=20)\n",
    "plt.yticks(fontsize=15)\n",
    "plt.xticks(fontsize=15)\n",
    "plt.legend(fontsize=15,loc='upper left')   "
   ]
  },
  {
   "cell_type": "markdown",
   "metadata": {
    "slideshow": {
     "slide_type": "slide"
    }
   },
   "source": [
    "# Utilisation de l'ACP"
   ]
  },
  {
   "cell_type": "markdown",
   "metadata": {
    "slideshow": {
     "slide_type": "subslide"
    }
   },
   "source": [
    "* On utilise beaucoup l'ACP en gestion quant car c'est un outils très puissant et simple. \n",
    "\n",
    "\n",
    "* Il peut etre facilement interpreté par des portefeuilles. \n"
   ]
  },
  {
   "cell_type": "markdown",
   "metadata": {
    "slideshow": {
     "slide_type": "subslide"
    }
   },
   "source": [
    "On va d'abord comprendre visuellement ce que fait l'analyse en composantes principales. Pour cela on prend un ensemble de point distribués normalement $(x,y)\\sim \\mathcal{N}(\\mu,\\Sigma)$ avec une certaine correlation. On a donc un ensemble de point $D$ :\n",
    "\n",
    "$$D =  \\left(\\begin{array}{cc}\n",
    "x_{1} & y_{1}\\\\\n",
    "x_{2} & y_{2}\\\\\n",
    "x_{3} & y_{3}\\\\\n",
    "\\vdots & \\vdots\\\\\n",
    "x_{n} & y_{n}\n",
    "\\end{array}\\right)$$\n",
    "\n",
    "On graphe les points dans un plan :"
   ]
  },
  {
   "cell_type": "code",
   "execution_count": null,
   "metadata": {
    "scrolled": false,
    "slideshow": {
     "slide_type": "subslide"
    }
   },
   "outputs": [],
   "source": [
    "correlation = 0.8\n",
    "mean=(2,2)\n",
    "points = pd.DataFrame(np.random.multivariate_normal(\n",
    "            mean=mean, cov=[[1, correlation],[correlation, 1]], size=10000\n",
    "            ),columns=[\"x\",\"y\"])\n",
    "points.plot(kind='scatter',x='x',y=\"y\")\n",
    "plt.ylabel('y',fontsize=15)\n",
    "plt.xlabel('x',fontsize=15)\n",
    "plt.yticks(fontsize=15)\n",
    "plt.xticks(fontsize=15)"
   ]
  },
  {
   "cell_type": "markdown",
   "metadata": {
    "slideshow": {
     "slide_type": "subslide"
    }
   },
   "source": [
    "  * Mathématiquement on trouve les axes et la variance en diagonalisant la matrice de variance covariance\n",
    "  \n"
   ]
  },
  {
   "cell_type": "markdown",
   "metadata": {
    "slideshow": {
     "slide_type": "fragment"
    }
   },
   "source": [
    "On diagonalise ensuite la matrice:\n",
    "\n",
    "$$ \\hat{\\Sigma}=V\\Lambda V^\\top{}$$\n",
    "\n",
    "\n",
    "ou les valeurs propres sont dans la matrice diagonale $\\Lambda = \\mathrm{diag}\\left(\\lambda_{1},\\cdots,\\lambda_{n}\\right)$ avec $\\lambda_1>\\lambda_2>\\cdots >\\lambda_n$ et la matrice des vecteurs propres $V$ est telle que $V^\\top V=I$.\n",
    "\n",
    "On peut aussi écrire la décomposition comme :\n",
    "\n",
    "$$ \\hat{\\Sigma}= \\sum_i \\lambda_i v_i v_i^\\top{} $$\n"
   ]
  },
  {
   "cell_type": "markdown",
   "metadata": {
    "slideshow": {
     "slide_type": "fragment"
    }
   },
   "source": [
    "Les coordonnées des points dans le nouveau repère sont données par :\n",
    "\n",
    "$$\\tilde{D} =  \\left(\\begin{array}{cc}\n",
    "x_{1} & y_{1}\\\\\n",
    "x_{2} & y_{2}\\\\\n",
    "x_{3} & y_{3}\\\\\n",
    "\\vdots & \\vdots\\\\\n",
    "x_{n} & y_{n}\n",
    "\\end{array}\\right) V = \\left(\\begin{array}{cc}\n",
    "x_{1}v_{1,1} + y_{1}v_{1,2} & x_{1}v_{2,1} +y_{1}v_{2,2} \\\\\n",
    "\\vdots & \\vdots\\\\\n",
    "\\vdots & \\vdots\\\\\n",
    "\\vdots & \\vdots\\\\\n",
    "x_{n}v_{1,1} + y_{n}v_{1,2} & x_{n}v_{2,1} +y_{n}v_{2,2}\n",
    "\\end{array}\\right) $$"
   ]
  },
  {
   "cell_type": "code",
   "execution_count": null,
   "metadata": {
    "slideshow": {
     "slide_type": "subslide"
    }
   },
   "outputs": [],
   "source": [
    "V, L, Vt = np.linalg.svd([[1, correlation],[correlation, 1]],full_matrices=True)\n",
    "\n",
    "correlation = 0.8\n",
    "mean=(2,2)\n",
    "Factor = (points.dot(V)).values\n",
    "points = pd.DataFrame(Factor,columns=[\"x\",\"y\"])\n",
    "points.plot(kind='scatter',x='x',y=\"y\")\n",
    "plt.ylabel('y',fontsize=15)\n",
    "plt.xlabel('x',fontsize=15)\n",
    "plt.yticks(fontsize=15)\n",
    "plt.xticks(fontsize=15)\n",
    "\n",
    "print (\"La correlation est de %s et la variance du premier axe de %s\" % (\"{0:.1%}\".format(points.corr().iloc[0,1]) ,  \"{0:.1%}\".format(points.var()[0]) ))"
   ]
  },
  {
   "cell_type": "markdown",
   "metadata": {
    "slideshow": {
     "slide_type": "subslide"
    }
   },
   "source": [
    " **Exercice :**\n",
    " \n",
    " Quand on fait des simulations de montecarlo à plusieurs actifs on a besoin de corréler les variables aléatoires. On peut alors utiliser l'ACP :\n",
    " \n",
    " * Tirer un échantillon de variable aléatoires gaussiennes **indépendante**\n",
    " \n",
    " * On veut les corréler à 80%\n",
    "  \n",
    "  Avec excel on utilisera les fonctions norminv et rand.\n",
    "\n",
    "* Passer de l'univers indépendant à dependant grace à l'ACP en utilisant la matrice suivante"
   ]
  },
  {
   "cell_type": "markdown",
   "metadata": {
    "slideshow": {
     "slide_type": "subslide"
    }
   },
   "source": [
    "  * Pour des applications financières on va plutot prendre les rendements des actifs\n",
    "\n",
    "Pour cela on va utiliser la decompostion de la matrice de varcovar.\n",
    "La matrice de variance covariance peut être estimée par \n",
    "\n",
    "$$\\hat{\\Sigma} = R_t^\\top R_t / T $$\n",
    "\n",
    "ou $T = t -t_0$ est la durée en année et $R_t$ la matrice des rendements de taille 260 (jours) en ligne et 10 (actifs) en colonne. On obtient alors en python :  \n",
    "\n"
   ]
  },
  {
   "cell_type": "code",
   "execution_count": null,
   "metadata": {
    "slideshow": {
     "slide_type": "fragment"
    }
   },
   "outputs": [],
   "source": [
    "#on calcule la covariance\n",
    "p = R.index.size\n",
    "cov = R.T.dot(R) / p * 260"
   ]
  },
  {
   "cell_type": "markdown",
   "metadata": {
    "slideshow": {
     "slide_type": "subslide"
    }
   },
   "source": [
    "  * Les valeurs propre : c'est information. Dans notre application financière **c'est la variance**.\n",
    " \n",
    " \n",
    "  * Les vecteurs propres : donne le vecteur (et donc la direction) sur lequel est representée l'information. Danc notre application financière **c'est un portefeuille**."
   ]
  },
  {
   "cell_type": "markdown",
   "metadata": {
    "slideshow": {
     "slide_type": "fragment"
    }
   },
   "source": [
    "Pour trouver la plus grande variance (ou valeur propre) on va donc maximiser la variance d'un vecteur :\n",
    "    \n",
    "\\begin{eqnarray*}\n",
    "\\lambda_1 &=&\\ \\max  v_1^{\\top }\\Sigma v_1  \\\\\n",
    "&\\text{u.c.}& {v_1}^{\\top }v_1=1  \n",
    "\\end{eqnarray*}\n",
    "    \n",
    "Ensuite on enleve toute cette information de la matrice de covariance et on recommance.\n",
    "\n",
    "$$\n",
    "\\Sigma:= \\Sigma-\\lambda_1v_1{v_1}^{\\top }\n",
    "$$"
   ]
  },
  {
   "cell_type": "markdown",
   "metadata": {
    "slideshow": {
     "slide_type": "subslide"
    }
   },
   "source": [
    "  * il y a autant de facteur que de nombre d'actif quand la matrice de covariance est bien définie positive.\n",
    "  \n",
    "  * Les portefeuille sont mutuellement corrélés à 0."
   ]
  },
  {
   "cell_type": "markdown",
   "metadata": {
    "slideshow": {
     "slide_type": "fragment"
    }
   },
   "source": [
    "**Exercice : ** Faire la decomposition de la matrice de variance covariance"
   ]
  },
  {
   "cell_type": "code",
   "execution_count": null,
   "metadata": {
    "slideshow": {
     "slide_type": "fragment"
    }
   },
   "outputs": [],
   "source": [
    "#on utilise singular value decomposition / décomposition valeur propre vecteurs propres\n",
    "V, L, Vt = np.linalg.svd(cov,full_matrices=True)\n",
    "V = pd.DataFrame(data = V,index=cov.columns.values) \n",
    "V.columns = [\"Vec. Prore \"+str(x) for x in range(1,11)]\n",
    "L = pd.DataFrame(data = L,index=V.columns.values,columns={\"Valeur Propre\"}) "
   ]
  },
  {
   "cell_type": "code",
   "execution_count": null,
   "metadata": {
    "scrolled": false,
    "slideshow": {
     "slide_type": "subslide"
    }
   },
   "outputs": [],
   "source": [
    "print (V  )"
   ]
  },
  {
   "cell_type": "markdown",
   "metadata": {
    "slideshow": {
     "slide_type": "fragment"
    }
   },
   "source": [
    "On rappelle également que l'inverse de la matrice de variance covariance admet la meme décomposition avec des valeurs propres inverses et les mêmes vecteurs propres :\n",
    "\n",
    "\n",
    "$$ \\hat{\\Sigma}^{-1}=V\\Lambda^{-1} V^\\top{}$$"
   ]
  },
  {
   "cell_type": "markdown",
   "metadata": {
    "slideshow": {
     "slide_type": "subslide"
    }
   },
   "source": [
    "**Exercice : ** Calculer les valeurs propres de l'inverse"
   ]
  },
  {
   "cell_type": "markdown",
   "metadata": {
    "slideshow": {
     "slide_type": "subslide"
    }
   },
   "source": [
    "Les rendements des facteurs sont simplement donnés par $$\\mathcal{F}_t =   R_t V \\Lambda^{-1/2} p^{-1/2}  $$\n",
    "\n",
    "\n",
    "On voit bien alors que la matrice de variance covariance des facteurs est l'identité:\n",
    "\n",
    "\n",
    " \\begin{eqnarray}\n",
    "\\mathcal{F}_t^\\top \\mathcal{F}_t &=& p^{-1}  \\Lambda^{-1/2} V^{\\top} R_t^\\top  R_t V \\Lambda^{-1/2} \\\\ \n",
    "  &=&    \\Lambda^{-1/2} V^{\\top} V\\Lambda V^\\top{} V \\Lambda^{-1/2} \\\\\n",
    "&=&    \\Lambda^{-1/2}  \\Lambda   \\Lambda^{-1/2} \\\\\n",
    "&=& I\n",
    "\\end{eqnarray}\n",
    "\n",
    "\n",
    "On peut vérifier:"
   ]
  },
  {
   "cell_type": "code",
   "execution_count": null,
   "metadata": {
    "scrolled": false,
    "slideshow": {
     "slide_type": "fragment"
    }
   },
   "outputs": [],
   "source": [
    "F = pd.DataFrame(R.dot(V).dot(np.diag(L[\"Valeur Propre\"].pow(-0.5)))/(p**(0.5)),index=data.index)\n",
    "sns.clustermap((F.T.dot(F)*260*100) ,figsize=(8, 8), linewidths=.5 ,square=True, row_cluster=False, col_cluster=False)"
   ]
  },
  {
   "cell_type": "markdown",
   "metadata": {
    "slideshow": {
     "slide_type": "subslide"
    }
   },
   "source": [
    "* Les facteurs sont donc simplement des stratégies non corrélées les unes aux autres\n"
   ]
  },
  {
   "cell_type": "markdown",
   "metadata": {
    "slideshow": {
     "slide_type": "fragment"
    }
   },
   "source": [
    "\n",
    "\n",
    "* les vecteurs propres sont intéprétés comme des portefeuilles \n",
    "  *  On les appelle les portefeuilles propres.\n",
    "\n",
    "\n"
   ]
  },
  {
   "cell_type": "markdown",
   "metadata": {
    "slideshow": {
     "slide_type": "fragment"
    }
   },
   "source": [
    "* C'est une façon de voir un univers en stratégie indépendantes."
   ]
  },
  {
   "cell_type": "code",
   "execution_count": null,
   "metadata": {
    "slideshow": {
     "slide_type": "fragment"
    }
   },
   "outputs": [],
   "source": [
    "factor = pd.DataFrame(np.array((F+1).cumprod()),columns=['factor '+str(x+1) for x in range(10)],index = F.index)\n",
    "factor.plot()\n",
    "plt.ylabel('NAV', fontsize=20)\n",
    "plt.yticks(fontsize=15)\n",
    "plt.xticks(fontsize=15)\n",
    "plt.legend(fontsize=15,loc='upper left')   "
   ]
  },
  {
   "cell_type": "markdown",
   "metadata": {
    "slideshow": {
     "slide_type": "subslide"
    }
   },
   "source": [
    "Il y a un intérêt dans la gestion de portefeuille. Si on reprend le probleme de markowitz, on peut exprimer les poids à l'aide des facteurs :\n",
    "\n",
    "\n",
    "\\begin{eqnarray}\n",
    "x^\\star &=& \\phi\\Sigma^{-1}\\mu\\\\ \n",
    "  &=&   \\phi V\\Lambda^{-1} V^\\top{}\\mu\n",
    "\\end{eqnarray}\n"
   ]
  },
  {
   "cell_type": "markdown",
   "metadata": {
    "slideshow": {
     "slide_type": "fragment"
    }
   },
   "source": [
    "Si on investit le portefeuille, les rendements du portefeuille sont donnés par:\n",
    "\n",
    "\n",
    "\\begin{eqnarray}\n",
    "r_t^p &=& r_t^\\top x^\\star\\\\ \n",
    "  &=&    r_t^\\top  V\\Lambda^{-1} V^\\top{}\\mu \\phi \\\\\n",
    "  &=&     r_t^\\top  V\\Lambda^{-1/2}\\Lambda^{-1/2} V^\\top{}\\mu \\phi\\\\\n",
    "  &=&    (r_t^\\top  V\\Lambda^{-1/2}/p^{1/2}) (p^{1/2}\\Lambda^{-1/2} V^\\top{}\\mu \\phi)\n",
    "\\end{eqnarray}"
   ]
  },
  {
   "cell_type": "markdown",
   "metadata": {
    "slideshow": {
     "slide_type": "fragment"
    }
   },
   "source": [
    "* On voit alors que le rendement du facteur apparait :\n",
    "    \n",
    "    $$ f_t  = r_t^\\top  V\\Lambda^{-1/2}/p^{1/2} $$ \n"
   ]
  },
  {
   "cell_type": "markdown",
   "metadata": {
    "slideshow": {
     "slide_type": "fragment"
    }
   },
   "source": [
    "    \n",
    "* Ainsi que les poids $z$ dans les facteurs :\n",
    "\n",
    "$$ z  =p^{1/2}\\Lambda^{-1/2} V^\\top{}\\mu \\phi $$ "
   ]
  },
  {
   "cell_type": "markdown",
   "metadata": {
    "slideshow": {
     "slide_type": "fragment"
    }
   },
   "source": [
    "* Et donc finalement les rendemement du portefeuille sont :\n",
    "\n",
    "$$ r_t^p  =  f_t^\\top z  $$\n",
    "\n",
    "\n",
    "** On voit ici que les rendements du portefeuille peuvent être vus comme les rendements d'un investissement dans les actifs mais aussi dans les facteurs.**\n"
   ]
  }
 ],
 "metadata": {
  "anaconda-cloud": {},
  "celltoolbar": "Slideshow",
  "kernelspec": {
   "display_name": "Python 3",
   "language": "python",
   "name": "python3"
  }
 },
 "nbformat": 4,
 "nbformat_minor": 1
}
