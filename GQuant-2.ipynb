{
 "cells": [
  {
   "cell_type": "code",
   "execution_count": 1,
   "metadata": {
    "collapsed": true
   },
   "outputs": [],
   "source": [
    "import numpy as np\n",
    "import pandas as pd\n",
    "#from plotly.offline import iplot\n",
    "#from plotly.graph_objs import *\n",
    "\n",
    "#init_notebook_mode()\n",
    "#import cufflinks as cf\n",
    "#cf.go_offline()\n",
    "import seaborn as sns\n",
    "import matplotlib\n",
    "import matplotlib.pyplot as plt \n",
    "matplotlib.style.use('ggplot')\n",
    "%matplotlib inline\n",
    "matplotlib.rcParams['figure.figsize'] = (20.0, 8)"
   ]
  },
  {
   "cell_type": "markdown",
   "metadata": {},
   "source": [
    "# Gestion indicielle"
   ]
  },
  {
   "cell_type": "markdown",
   "metadata": {},
   "source": [
    "La gestion indicelle est un type de gestion ou l'on doit battre un benchmark ou alors le repliquer le mieux possible. Si on prend un portefeuille $X$ et un benchmark $Y$"
   ]
  },
  {
   "cell_type": "code",
   "execution_count": null,
   "metadata": {
    "collapsed": true
   },
   "outputs": [],
   "source": []
  },
  {
   "cell_type": "code",
   "execution_count": null,
   "metadata": {
    "collapsed": true
   },
   "outputs": [],
   "source": []
  },
  {
   "cell_type": "code",
   "execution_count": null,
   "metadata": {
    "collapsed": true
   },
   "outputs": [],
   "source": []
  },
  {
   "cell_type": "code",
   "execution_count": null,
   "metadata": {
    "collapsed": true
   },
   "outputs": [],
   "source": []
  },
  {
   "cell_type": "code",
   "execution_count": null,
   "metadata": {
    "collapsed": true
   },
   "outputs": [],
   "source": []
  },
  {
   "cell_type": "markdown",
   "metadata": {},
   "source": [
    "### Principes des fonds  garantis en capital"
   ]
  },
  {
   "cell_type": "markdown",
   "metadata": {},
   "source": [
    "Générallement une garantie en capital inclut un zero coupon : un instrument sans risque qui vaut 100% à la maturité. Sont prix est :\n",
    "\n",
    "$$\\mathrm{prix \\, du \\, zero \\,coupon} = \\exp(-\\mathrm{maturité \\, restante\\, \\times\\mathrm{Taux}} )$$\n",
    "\n",
    "$$ B(t,T) = \\exp(-(T-t)R(t,T))$$"
   ]
  },
  {
   "cell_type": "markdown",
   "metadata": {},
   "source": [
    "   * Grace au zero coupon on va garantir un niveau G de capital en T. \n",
    "   * Pour cela on achete  une quantité G de zero coupon de maturité T : c'est le **plancher**\n",
    "   * **Le restant est le coussin**. Tant que le coussin est positif (NAV au dessus du plancher), la garantie peut être tenue\n",
    "   "
   ]
  },
  {
   "cell_type": "markdown",
   "metadata": {},
   "source": [
    "Le prix de la garantie G est le prix du zero coupon fois G : $$\\mathrm{plancher}_t = G \\times B(t,T)$$\n",
    " \n"
   ]
  },
  {
   "cell_type": "code",
   "execution_count": 39,
   "metadata": {
    "collapsed": false
   },
   "outputs": [
    {
     "name": "stdout",
     "output_type": "stream",
     "text": [
      "Le prix de la garantie est de 86.1% et le coussin initial de 13.9%\n"
     ]
    }
   ],
   "source": [
    "#Si taux = 3% et maturité 5 ans et garantie à 100%\n",
    "B = np.exp(-0.03*5)\n",
    "G = 1 \n",
    "C = 1 -G*B\n",
    "print \"Le prix de la garantie est de %s et le coussin initial de %s\" % (\"{0:.1%}\".format(B*G) ,  \"{0:.1%}\".format(C) )"
   ]
  },
  {
   "cell_type": "markdown",
   "metadata": {},
   "source": [
    "Les frais de gestion $m$ introduisent une dérive entre les rendements nets et gross. Ils agissent comment un taux qui reste constant. Par exemple 1% par ans. On obtient alors :\n",
    "\n",
    " $$\\mathrm{plancher}_t = G \\times  \\exp(-(T-t)\\left(R(t,T)-m\\right))$$"
   ]
  },
  {
   "cell_type": "code",
   "execution_count": 40,
   "metadata": {
    "collapsed": false
   },
   "outputs": [
    {
     "name": "stdout",
     "output_type": "stream",
     "text": [
      "Le prix de la garantie est de 90.5% et le coussin initial de 9.5%\n"
     ]
    }
   ],
   "source": [
    "#Si taux = 3% , fees à 1%, maturité 5 ans et garantie à 100%\n",
    "B = np.exp(-(0.03-0.01)*5)\n",
    "G = 1 \n",
    "C = 1 -G*B\n",
    "print \"Le prix de la garantie est de %s et le coussin initial de %s\" % (\"{0:.1%}\".format(B*G) ,  \"{0:.1%}\".format(C) )"
   ]
  },
  {
   "cell_type": "markdown",
   "metadata": {},
   "source": [
    "Maintenant on sait comment faire une garantie en capital, on va voir comment investir le reste."
   ]
  },
  {
   "cell_type": "code",
   "execution_count": null,
   "metadata": {
    "collapsed": true
   },
   "outputs": [],
   "source": []
  }
 ],
 "metadata": {
  "kernelspec": {
   "display_name": "Python 2",
   "language": "python",
   "name": "python2"
  },
  "language_info": {
   "codemirror_mode": {
    "name": "ipython",
    "version": 2
   },
   "file_extension": ".py",
   "mimetype": "text/x-python",
   "name": "python",
   "nbconvert_exporter": "python",
   "pygments_lexer": "ipython2",
   "version": "2.7.10"
  }
 },
 "nbformat": 4,
 "nbformat_minor": 0
}
