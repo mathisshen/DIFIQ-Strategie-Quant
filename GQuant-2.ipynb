{
 "cells": [
  {
   "cell_type": "code",
   "execution_count": null,
   "metadata": {
    "slideshow": {
     "slide_type": "skip"
    }
   },
   "outputs": [],
   "source": [
    "import numpy as np\n",
    "import pandas as pd\n",
    "#from plotly.offline import iplot\n",
    "#from plotly.graph_objs import *\n",
    "\n",
    "#init_notebook_mode()\n",
    "#import cufflinks as cf\n",
    "#cf.go_offline()\n",
    "import seaborn as sns\n",
    "import matplotlib\n",
    "import matplotlib.pyplot as plt \n",
    "matplotlib.style.use('ggplot')\n",
    "%matplotlib inline\n",
    "matplotlib.rcParams['figure.figsize'] = (20.0, 8)"
   ]
  },
  {
   "cell_type": "markdown",
   "metadata": {
    "slideshow": {
     "slide_type": "slide"
    }
   },
   "source": [
    "# Gestion indicielle"
   ]
  },
  {
   "cell_type": "markdown",
   "metadata": {
    "slideshow": {
     "slide_type": "subslide"
    }
   },
   "source": [
    "## Gestion benchmarkée"
   ]
  },
  {
   "cell_type": "markdown",
   "metadata": {
    "slideshow": {
     "slide_type": "subslide"
    }
   },
   "source": [
    "La gestion indicelle est un type de gestion ou l'on doit battre un benchmark ou alors le repliquer le mieux possible. Si on prend un portefeuille $x$ et un benchmark $b$, on appelle l'erreur de réplication ( ou tracking error) l'écart suivant :\n",
    "\n",
    "$$ \\begin{array}{ccc}\n",
    "e(t) &=& R_x(t)- R_b(t)\\\\\n",
    "  &=&(x-b)^\\top R(t)\n",
    "\\end{array}$$"
   ]
  },
  {
   "cell_type": "markdown",
   "metadata": {
    "collapsed": true,
    "slideshow": {
     "slide_type": "subslide"
    }
   },
   "source": [
    "On peut alors avoir la variance de la tracking error et la sur/sous performance moyenne :\n",
    "\n",
    "$$ \\begin{array}{ccc}\n",
    "\\mu(x|b) &=& (x-b)^\\top \\mu\\\\\n",
    "\\sigma^2(x|b) &=& (x-b)^\\top \\Sigma (x-b)\n",
    "\\end{array}$$\n",
    "\n",
    "Ce sont exactement les memes formules que lorsque l'on regarde uniquement le portefeuille $x$ sauf que l'on regarde une difference de portefeuille."
   ]
  },
  {
   "cell_type": "markdown",
   "metadata": {
    "collapsed": true,
    "slideshow": {
     "slide_type": "fragment"
    }
   },
   "source": [
    "On obtient également une mesure semblable au ratio de sharpe que l'on appelle le ratio d'information :\n",
    "\n",
    "$$\\theta(x|b) = \\frac{\\mu(x|b) }{\\sigma(x|b) }  $$"
   ]
  },
  {
   "cell_type": "markdown",
   "metadata": {
    "collapsed": true,
    "slideshow": {
     "slide_type": "subslide"
    }
   },
   "source": [
    "Si on veut essayer de battre un indice on peut transformer le probleme de markowitz de la façon suiavnte :\n",
    "\n",
    "\\begin{eqnarray*}\n",
    "x^{\\star } &=&\\arg \\min \\frac{1}{2}(x-b)^{\\top }\\Sigma (x-b) -\\color{blue}{\\phi \\mu^\\top (x-b)} \\\\\n",
    "&\\text{u.c.}&\\left\\{\n",
    "\\begin{array}{l}\n",
    "x\\in \\mathcal{C} \\\\\n",
    "\\mathbf{1}^{\\top }x=1 \\\\\n",
    "x\\geq \\mathbf{0}\n",
    "\\end{array}\n",
    "\\right.  \n",
    "\\end{eqnarray*}\n",
    "\n",
    "* Le paramètre $\\phi$ est l'aversion à la tracking error. \n",
    "    *  ce paramètre sert à controler le risque de tracking error."
   ]
  },
  {
   "cell_type": "markdown",
   "metadata": {
    "collapsed": true,
    "slideshow": {
     "slide_type": "fragment"
    }
   },
   "source": [
    "*  En gestion indicielle on peut egalement vouloir répliquer un indice. Par exemple repliquer le S&P500 mais avec une contrainte sur le nombre d'actif dans le portefeuille : **technique de l'echantillonage**\n",
    "\n"
   ]
  },
  {
   "cell_type": "markdown",
   "metadata": {
    "collapsed": true,
    "slideshow": {
     "slide_type": "subslide"
    }
   },
   "source": [
    "Plusieurs techniques : \n",
    "\n",
    " * Enlever les actifs les plus petits en poids les uns après les autres tant que la contrainte de TE est respectée\n"
   ]
  },
  {
   "cell_type": "markdown",
   "metadata": {
    "slideshow": {
     "slide_type": "fragment"
    }
   },
   "source": [
    " * Utilisation de la norme $L_1$ : cette norme permet de \"sparsifier\" le programme de markowitz :\n",
    "   $$\\begin{eqnarray*}\n",
    "    x^{\\star } &=&\\arg \\min \\frac{1}{2}(x-b)^{\\top }\\Sigma (x-b) + \\color{blue}{\\lambda \\sum_i |x_i| }\\\\\n",
    "    &\\text{u.c.}&\\left\\{\n",
    "    \\begin{array}{l}\n",
    "    x\\in \\mathcal{C} \\\\\n",
    "    \\mathbf{1}^{\\top }x=1 \\\\\n",
    "    x\\geq \\mathbf{0}\n",
    "    \\end{array}\n",
    "    \\right.  \n",
    "    \\end{eqnarray*}$$\n",
    " "
   ]
  },
  {
   "cell_type": "markdown",
   "metadata": {
    "slideshow": {
     "slide_type": "fragment"
    }
   },
   "source": [
    "* Utilisation de contrainte entière (mixed integer quadratic programming, MIQP) :\n",
    "    $$\\begin{eqnarray*}\n",
    "    x^{\\star } &=&\\arg \\min \\frac{1}{2}(x-b)^{\\top }\\Sigma (x-b) \\\\\n",
    "    &\\text{u.c.}&\\left\\{\n",
    "    \\begin{array}{l}\n",
    "    x\\in \\mathcal{C} \\\\\n",
    "    \\mathbf{1}^{\\top }x=1 \\\\\n",
    "    x\\geq \\mathbf{0}\\\\\n",
    "    \\color{blue}{\\sum_i \\mathbf{1}\\{ x_i>0\\} \\leq k}\n",
    "    \\end{array}\n",
    "    \\right.  \n",
    "    \\end{eqnarray*}$$"
   ]
  },
  {
   "cell_type": "markdown",
   "metadata": {
    "slideshow": {
     "slide_type": "subslide"
    }
   },
   "source": [
    "## Réplication d'indice à composantes cachées"
   ]
  },
  {
   "cell_type": "markdown",
   "metadata": {
    "slideshow": {
     "slide_type": "subslide"
    }
   },
   "source": [
    "Parfois on peut vouloir répliquer un indice ou un fonds dont on ne connait pas les expositions. Typiquement un indice représentatif de stratégie hedge funds."
   ]
  },
  {
   "cell_type": "code",
   "execution_count": null,
   "metadata": {
    "slideshow": {
     "slide_type": "subslide"
    }
   },
   "outputs": [],
   "source": [
    "data = pd.read_excel(\"Exercice7TREX.xlsx\",parse_dates=True,skiprows=7,header=0,index_col=0).loc[\"2007\":]\n",
    "hf =  data[\"HF Index\"] \n",
    "X = data.drop(\"HF Index\",1)\n",
    "(hf+1).cumprod().plot(fi)\n",
    "plt.ylabel('NAV',fontsize=15)\n",
    "plt.yticks(fontsize=15)\n",
    "plt.xticks(fontsize=15)\n",
    "plt.legend(fontsize=15,loc='upper left')"
   ]
  },
  {
   "cell_type": "markdown",
   "metadata": {
    "slideshow": {
     "slide_type": "subslide"
    }
   },
   "source": [
    "On va supposer que le rendement de cet indice s'écrit :\n",
    "\n",
    "$$R_I(t) = \\sum_{i\\in \\mathcal{I}} \\beta_i R_i(t) $$\n",
    "\n",
    "Ou $\\mathcal{I}$ est l'univers d'investissement à priori. Le problème est donc résolu par simple régression linéraire. "
   ]
  },
  {
   "cell_type": "markdown",
   "metadata": {
    "slideshow": {
     "slide_type": "subslide"
    }
   },
   "source": [
    "**Exercice** : calculer la stratégie de réplication de l'indice et la tracking error. Comment améliorer ? "
   ]
  },
  {
   "cell_type": "code",
   "execution_count": null,
   "metadata": {
    "slideshow": {
     "slide_type": "subslide"
    }
   },
   "outputs": [],
   "source": [
    "eonia = pd.read_csv(\"eonia.csv\",sep=\";\",index_col=0, parse_dates=True,infer_datetime_format=True) \n",
    "eonia = eonia.loc[X.index,:]\n",
    "#calcul du pas de temps\n",
    "dt = pd.DataFrame(eonia.index[1:].values-eonia.index[:-1].values,columns={\"dt\"})\n",
    "#calcul du rendement de eonia, vaut 0 en date 0\n",
    "r_eonia =  np.array(eonia['EONIA Index'])*( np.hstack((dt[\"dt\"].shift(-1).dt.days/365,1/365)))\n",
    "r_eonia = np.nan_to_num(r_eonia)\n",
    "\n",
    " \n",
    "track  = pd.DataFrame((hf+1).cumprod())\n",
    "track[\"repliquant\"] = (X.dot((np.linalg.inv(X.T.dot(X)).dot(X.T.dot(hf))  ))+r_eonia+1).cumprod()\n",
    "track.plot()\n",
    "plt.yticks(fontsize=15)\n",
    "plt.xticks(fontsize=15)\n",
    "plt.legend(fontsize=15)"
   ]
  },
  {
   "cell_type": "markdown",
   "metadata": {
    "slideshow": {
     "slide_type": "slide"
    }
   },
   "source": [
    "# L'assurance de portefeuille"
   ]
  },
  {
   "cell_type": "markdown",
   "metadata": {
    "slideshow": {
     "slide_type": "subslide"
    }
   },
   "source": [
    "### Principes des fonds  garantis en capital"
   ]
  },
  {
   "cell_type": "markdown",
   "metadata": {
    "slideshow": {
     "slide_type": "subslide"
    }
   },
   "source": [
    "Notons $S_t$ et $B_t$ la valeur de l'actif sans risque (un zero coupon) et celle de l'actif risqué. Soit $V_t$ la valeur du portefeuille avec $V_0 = 1$."
   ]
  },
  {
   "cell_type": "markdown",
   "metadata": {
    "slideshow": {
     "slide_type": "fragment"
    }
   },
   "source": [
    "Générallement une garantie en capital inclut un zero coupon : un instrument sans risque qui vaut 100% à la maturité. Sont prix est :\n",
    "\n",
    "$$\\mathrm{prix \\, du \\, zero \\,coupon} = \\exp(-\\mathrm{maturité \\, restante\\, \\times\\mathrm{Taux}} )$$\n",
    "\n",
    "\n",
    "$$ B(t,T) = \\exp(-(T-t)R(t,T))$$"
   ]
  },
  {
   "cell_type": "markdown",
   "metadata": {
    "slideshow": {
     "slide_type": "subslide"
    }
   },
   "source": [
    "   * Grace au zéro coupon on va garantir un niveau de capital en T. \n",
    "   \n",
    "   * Pour cela on achete  une quantité $x$ de zero coupon de maturité T : c'est le **plancher**\n",
    "   \n",
    "   * **Le restant est le coussin** $C_t$. Tant que le coussin est positif (V_t au dessus du plancher), la garantie peut être tenue\n",
    "   \n",
    "   $$C_t = V_t-xB_t$$"
   ]
  },
  {
   "cell_type": "code",
   "execution_count": null,
   "metadata": {
    "slideshow": {
     "slide_type": "fragment"
    }
   },
   "outputs": [],
   "source": [
    "#Si taux = 3% et maturité 5 ans et garantie à 100%\n",
    "B = np.exp(-0.03*5)\n",
    "x = 1 \n",
    "F = x*B\n",
    "C = 1 -x*B\n",
    "print \"Le prix de la garantie (plancher) est de %s et le coussin initial de %s\" % (\"{0:.1%}\".format(F) ,  \"{0:.1%}\".format(C) )"
   ]
  },
  {
   "cell_type": "markdown",
   "metadata": {
    "slideshow": {
     "slide_type": "subslide"
    }
   },
   "source": [
    "Les frais de gestion ($fees$) introduisent une dérive entre les rendements nets et gross. Ils agissent comment un taux qui reste constant. Par exemple 1% par an. On obtient alors :\n",
    "\n",
    " $$\\mathrm{prix\\,de\\,la\\,garantie} = x \\times  \\exp(-(T-t)\\left(R(t,T)-fees\\right))$$"
   ]
  },
  {
   "cell_type": "code",
   "execution_count": null,
   "metadata": {
    "slideshow": {
     "slide_type": "fragment"
    }
   },
   "outputs": [],
   "source": [
    "#Si taux = 3% , fees à 1%, maturité 5 ans et garantie à 100%\n",
    "B = np.exp(-(0.03-0.01)*5)\n",
    "x = 1 \n",
    "C = 1 -x*B\n",
    "print \"Le prix de la garantie est de %s et le coussin initial de %s\" % (\"{0:.1%}\".format(B*G) ,  \"{0:.1%}\".format(C) )"
   ]
  },
  {
   "cell_type": "markdown",
   "metadata": {
    "slideshow": {
     "slide_type": "subslide"
    }
   },
   "source": [
    "On peut aussi avoir une garantie implicit en utilisant un put. Par exemple si on achète une quantité $y$ d'actif risqué $S_t$ plus un put de strike K. On a :\n",
    "\n",
    "$$ V_t = y(S_t + P_t^{\\mathrm{put}}(K))$$\n",
    " \n",
    "avec $y = \\frac{V_0}{S_0+ P_0^{\\mathrm{put}}(K)}$"
   ]
  },
  {
   "cell_type": "markdown",
   "metadata": {
    "slideshow": {
     "slide_type": "fragment"
    }
   },
   "source": [
    "A maturité $T$ on obtient :\n",
    "\n",
    "$$\n",
    "\\begin{eqnarray*}\n",
    "V_T &=&  \\frac{V_0}{S_0+ P_0^{\\mathrm{put}}(K)}(S_T + \\max(K-S_T,0)) \\\\\n",
    "\\end{eqnarray*}$$\n",
    "\n",
    " * Si $S_T>K$ alors $V_T =   \\frac{V_0}{S_0+ P_0^{\\mathrm{put}}(K)}S_T> \\frac{V_0}{S_0+ P_0^{\\mathrm{put}}(K)}K$\n",
    " * Si $S_T \\leq K$ alors $V_T =  \\frac{V_0}{S_0+ P_0^{\\mathrm{put}}(K)}K$"
   ]
  },
  {
   "cell_type": "markdown",
   "metadata": {
    "slideshow": {
     "slide_type": "fragment"
    }
   },
   "source": [
    "On en déduit que l'on a une garantie implicite :\n",
    "\n",
    "$G =\\frac{K}{S_0+ P_0^{\\mathrm{put}}(K)}$"
   ]
  },
  {
   "cell_type": "markdown",
   "metadata": {
    "slideshow": {
     "slide_type": "subslide"
    }
   },
   "source": [
    "Maintenant on sait comment faire une garantie en capital, on va voir comment investir le reste :\n",
    "\n",
    "* On peut investir dans des options (OBPI, produits structurés ex : zero coupon + call) \n",
    "\n",
    "* Directement dans l'actif risqué (CPPI)"
   ]
  },
  {
   "cell_type": "markdown",
   "metadata": {
    "collapsed": true,
    "slideshow": {
     "slide_type": "subslide"
    }
   },
   "source": [
    "## La méthode CPPI"
   ]
  },
  {
   "cell_type": "markdown",
   "metadata": {
    "slideshow": {
     "slide_type": "fragment"
    }
   },
   "source": [
    "L'exposition dans l'actif risqué est une fonction du coussin. C'est meme un multiplicateur du coussin et on a chaque date :\n",
    "\n",
    "* Si $V_t>xB_t$ l'exposition dans l'actif risqué est donnée par $mC_t = m(V_t-xB_t)$\n",
    "\n",
    "    *  Un multiple fort correspond à un levier plus fort, mais le fonds\n",
    "est alors exposé à une monétarisation plus rapide en cas de baisse des marchés\n",
    "\n",
    "\n",
    "*  Si $V_t<xB_t$ le portefeuille est entierement investi en zero coupon car $C_t = 0$\n",
    "\n",
    "On supposera que x = 1 et que donc on veut garantir 100% du capital."
   ]
  },
  {
   "cell_type": "markdown",
   "metadata": {
    "slideshow": {
     "slide_type": "fragment"
    }
   },
   "source": [
    "0n suppose également que l'actif risqué suis un modele de Black et Scholes : \n",
    "\n",
    "$$\\frac{\\mathrm{d}S_t}{S_t}  = \\mu\\mathrm{d}t + \\sigma\\mathrm{d}W_t$$"
   ]
  },
  {
   "cell_type": "markdown",
   "metadata": {
    "slideshow": {
     "slide_type": "subslide"
    }
   },
   "source": [
    "Si on reprend les notations precédantes on sait que le portefeuille est investi in fine dans un zero coupon pour la garantie en capital et a une exposiiton de $mC_t$ dans l'actif risqué.\n",
    "\n",
    "La dynamique autofinancée de ce portefeuille s'écrit :\n",
    "\n",
    "$$\\mathrm{d}V_t = (V_t-mC_t) \\frac{\\mathrm{d}B_t}{B_t} + mC_t\\frac{\\mathrm{d}S_t}{S_t} = V_t r\\mathrm{d}t + mC_t\\left(\\frac{\\mathrm{d}S_t}{S_t}-r\\mathrm{d}t \\right) $$"
   ]
  },
  {
   "cell_type": "markdown",
   "metadata": {
    "slideshow": {
     "slide_type": "fragment"
    }
   },
   "source": [
    " \n",
    "et par définition on a aussi la valeur du portefeuille qui doit étre égale au zero coupon plus le coussin et donc :\n",
    "\n",
    "$$ \\mathrm{d}V_t = \\mathrm{d}B_t + \\mathrm{d}C_t = B_tr\\mathrm{d}t+\\mathrm{d}C_t$$\n",
    "\n"
   ]
  },
  {
   "cell_type": "markdown",
   "metadata": {
    "slideshow": {
     "slide_type": "fragment"
    }
   },
   "source": [
    "En remplançant $\\mathrm{d}V_t$ par sa valeur et en utilisant le fait que $V_t r\\mathrm{d}t = (C_t+B_t )r\\mathrm{d}t$ on obtient :"
   ]
  },
  {
   "cell_type": "markdown",
   "metadata": {
    "slideshow": {
     "slide_type": "fragment"
    }
   },
   "source": [
    "$$\\frac{\\mathrm{d}C_t}{C_t} = (r+m(\\mu-r))\\mathrm{d}t+m\\sigma \\mathrm{d}W_t $$\n"
   ]
  },
  {
   "cell_type": "markdown",
   "metadata": {
    "slideshow": {
     "slide_type": "fragment"
    }
   },
   "source": [
    "\n",
    "Le coussin est donc une stratégie de levier $m$ dans l'actif risqué. Il reste positif si son rendement est supérieur à -100%. Soit :\n",
    "\n",
    "$$\\frac{\\mathrm{d}C_t}{C_t} = m\\frac{\\mathrm{d}S_t}{S_t}>-1$$\n",
    "\n",
    "Si on suppose que le risque maximum de l'actif risque est -20% il faudra alors $m<5$.\n",
    "\n",
    "\n"
   ]
  },
  {
   "cell_type": "markdown",
   "metadata": {
    "slideshow": {
     "slide_type": "subslide"
    }
   },
   "source": [
    "On obtient facilement une expression pour la valeur du coussin :\n",
    "\n",
    "$$ C_T = C_0\\exp\\left(rT+m(\\mu-r)T+m\\sigma W_T -\\frac{m^2\\sigma^2T}{2} \\right)$$\n",
    "\n",
    "\n",
    "\n",
    "La valeur de $C_t$ est donc toujours positive et on peut en déduire que :\n",
    "\n",
    "$$V_T= B_T + C_T\\geq B_T = 1$$\n",
    "\n",
    "La valeur du portefeuille à maturité est supérieure ou égale à la garantie."
   ]
  },
  {
   "cell_type": "markdown",
   "metadata": {
    "slideshow": {
     "slide_type": "fragment"
    }
   },
   "source": [
    "La valeur du coussin ne dépend pas de la trajectoire. En effet nous avons :\n",
    "$$ \\sigma W_T = \\ln\\frac{S_T}{S_0}-(\\mu-\\frac{1}{2}\\sigma^2) T $$\n",
    "\n",
    "et donc :\n",
    "\n",
    "$$ \n",
    "\\begin{eqnarray*}\n",
    "C_T &=& C_0\\exp\\left(rT+m(\\mu-r)T+m\\sigma W_T -\\frac{m^2\\sigma^2T}{2} \\right)\\\\\n",
    "   &=& C_0\\left(\\frac{S_T}{S_0}\\right)^m\\exp\\left((1-m)rT+\\frac{(m-m^2)\\sigma^2T}{2} \\right)\n",
    "\\end{eqnarray*}\n",
    "$$"
   ]
  },
  {
   "cell_type": "markdown",
   "metadata": {
    "slideshow": {
     "slide_type": "subslide"
    }
   },
   "source": [
    "**Exercice :** Donner la sensibilité de l'exposition à une variation de marché, de taux et de volatilité. Pourquoi est ce une stratégie trend following ? Faire une simulation d'un CPPI sur un actif."
   ]
  },
  {
   "cell_type": "markdown",
   "metadata": {
    "slideshow": {
     "slide_type": "fragment"
    }
   },
   "source": [
    "On peut trouver un multiplicateur optimal en maximisant l'esperance de taux de croissance du coussin. Cette approche est la meme que si l'on maximise l'utilité log :\n",
    "\n",
    "$$ m^\\star = \\mathrm{arg}\\max \\mathbb{E}\\left(\\ln\\frac{C_T}{C_0}  \\right)$$\n",
    "\n",
    "Le faire en exercice et appliquer dans les simulations."
   ]
  },
  {
   "cell_type": "code",
   "execution_count": null,
   "metadata": {},
   "outputs": [],
   "source": []
  }
 ],
 "metadata": {
  "celltoolbar": "Slideshow",
  "kernelspec": {
   "display_name": "Python 3",
   "language": "python",
   "name": "python3"
  },
  "language_info": {
   "codemirror_mode": {
    "name": "ipython",
    "version": 3
   },
   "file_extension": ".py",
   "mimetype": "text/x-python",
   "name": "python",
   "nbconvert_exporter": "python",
   "pygments_lexer": "ipython3",
   "version": "3.6.3"
  }
 },
 "nbformat": 4,
 "nbformat_minor": 1
}
